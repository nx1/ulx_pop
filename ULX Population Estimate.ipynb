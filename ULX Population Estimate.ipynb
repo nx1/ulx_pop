{
 "cells": [
  {
   "cell_type": "markdown",
   "metadata": {},
   "source": [
    "# ULX Population Estimate\n",
    "\n",
    "The starting point for the project is the simulation files from STARTRACK provided by Grzegorz Wiktorowicz.\n",
    "\n",
    "The files have the following naming structure: 'Z_0.002_tage_20.dat' and identify both the Metallicity and the Age of system (time since ZAMS in Myr)."
   ]
  },
  {
   "cell_type": "code",
   "execution_count": 10,
   "metadata": {},
   "outputs": [
    {
     "name": "stdout",
     "output_type": "stream",
     "text": [
      "test.py                  Z_0.002_tage_10000.dat  Z_0.02_tage_1000.dat\r\n",
      "Z_0.0002_tage_10000.dat  Z_0.002_tage_1000.dat   Z_0.02_tage_100.dat\r\n",
      "Z_0.0002_tage_1000.dat   Z_0.002_tage_100.dat    Z_0.02_tage_10.dat\r\n",
      "Z_0.0002_tage_100.dat    Z_0.002_tage_10.dat     Z_0.02_tage_2000.dat\r\n",
      "Z_0.0002_tage_10.dat     Z_0.002_tage_2000.dat   Z_0.02_tage_200.dat\r\n",
      "Z_0.0002_tage_2000.dat   Z_0.002_tage_200.dat    Z_0.02_tage_20.dat\r\n",
      "Z_0.0002_tage_200.dat    Z_0.002_tage_20.dat     Z_0.02_tage_5000.dat\r\n",
      "Z_0.0002_tage_20.dat     Z_0.002_tage_5000.dat   Z_0.02_tage_500.dat\r\n",
      "Z_0.0002_tage_5000.dat   Z_0.002_tage_500.dat    Z_0.02_tage_50.dat\r\n",
      "Z_0.0002_tage_500.dat    Z_0.002_tage_50.dat\r\n",
      "Z_0.0002_tage_50.dat     Z_0.02_tage_10000.dat\r\n"
     ]
    }
   ],
   "source": [
    "ls"
   ]
  },
  {
   "cell_type": "markdown",
   "metadata": {},
   "source": [
    "Each file contains 4 columns:\n",
    "\n",
    "    mdot:\n",
    "        mass transfer rate (in solar masses per Myr; to the disk, not to the accretor, \n",
    "        which is lower due to the mass loss in disk wind),\n",
    "    \n",
    "    m:\n",
    "        mass of a compact object (in solar masses; we assumed that these with a mass \n",
    "        lower than 2.5 Msun are NSs, whereas the heavier ones are BHs).\n",
    "    \n",
    "    idum, iidd:\n",
    "        identificators of the system in the simulations. They have no physical meaning,\n",
    "        but will allow to find more info about some potentially odd, or interesting system.\n",
    "        \n",
    "\n",
    "We may import them via the following:"
   ]
  },
  {
   "cell_type": "code",
   "execution_count": 15,
   "metadata": {},
   "outputs": [],
   "source": [
    "import pandas as pd\n",
    "import glob\n",
    "import numpy as np\n",
    "def ImportFiles():\n",
    "    df_dict = {}  #Dictionary for storing dataframes for m_dot\n",
    "    files = glob.glob('*.dat')\n",
    "\n",
    "    for filename in files:\n",
    "        # print(filename)\n",
    "        df_dict[filename] = pd.read_csv(filename, delim_whitespace=True,\n",
    "               header=None, names=['mdot', 'm', 'idum', 'iidd'])\n",
    "    \n",
    "        cut_string = filename.split(sep='_', maxsplit=4)\n",
    "        df_dict[filename]['Z'] = float(cut_string[1])\n",
    "        df_dict[filename]['tage'] = float(cut_string[3][:-4])\n",
    "        \n",
    "    \n",
    "    # Concat all the datafames into one.\n",
    "    df_master = pd.concat(df_dict, ignore_index=True)\n",
    "    df_master = df_master.drop(['idum'], axis=1) #Drop useless columns\n",
    "    df_master = df_master.drop(['iidd'], axis=1) #Drop useless columns\n",
    "    df_master['is_bh'] = np.where(df_master['m'] < 2.5, 0 , 1) #Add type column\n",
    "    return df_master\n",
    "\n",
    "df_master = ImportFiles()"
   ]
  },
  {
   "cell_type": "code",
   "execution_count": 23,
   "metadata": {},
   "outputs": [
    {
     "data": {
      "text/html": [
       "<div>\n",
       "<style scoped>\n",
       "    .dataframe tbody tr th:only-of-type {\n",
       "        vertical-align: middle;\n",
       "    }\n",
       "\n",
       "    .dataframe tbody tr th {\n",
       "        vertical-align: top;\n",
       "    }\n",
       "\n",
       "    .dataframe thead th {\n",
       "        text-align: right;\n",
       "    }\n",
       "</style>\n",
       "<table border=\"1\" class=\"dataframe\">\n",
       "  <thead>\n",
       "    <tr style=\"text-align: right;\">\n",
       "      <th></th>\n",
       "      <th>mdot</th>\n",
       "      <th>m</th>\n",
       "      <th>Z</th>\n",
       "      <th>tage</th>\n",
       "      <th>is_bh</th>\n",
       "    </tr>\n",
       "  </thead>\n",
       "  <tbody>\n",
       "    <tr>\n",
       "      <th>0</th>\n",
       "      <td>3.90</td>\n",
       "      <td>25.9</td>\n",
       "      <td>0.0002</td>\n",
       "      <td>10.0</td>\n",
       "      <td>1</td>\n",
       "    </tr>\n",
       "    <tr>\n",
       "      <th>1</th>\n",
       "      <td>1.70</td>\n",
       "      <td>17.0</td>\n",
       "      <td>0.0002</td>\n",
       "      <td>10.0</td>\n",
       "      <td>1</td>\n",
       "    </tr>\n",
       "    <tr>\n",
       "      <th>2</th>\n",
       "      <td>2.70</td>\n",
       "      <td>13.1</td>\n",
       "      <td>0.0002</td>\n",
       "      <td>10.0</td>\n",
       "      <td>1</td>\n",
       "    </tr>\n",
       "    <tr>\n",
       "      <th>3</th>\n",
       "      <td>2.60</td>\n",
       "      <td>25.8</td>\n",
       "      <td>0.0002</td>\n",
       "      <td>10.0</td>\n",
       "      <td>1</td>\n",
       "    </tr>\n",
       "    <tr>\n",
       "      <th>4</th>\n",
       "      <td>0.65</td>\n",
       "      <td>15.8</td>\n",
       "      <td>0.0002</td>\n",
       "      <td>10.0</td>\n",
       "      <td>1</td>\n",
       "    </tr>\n",
       "  </tbody>\n",
       "</table>\n",
       "</div>"
      ],
      "text/plain": [
       "   mdot     m       Z  tage  is_bh\n",
       "0  3.90  25.9  0.0002  10.0      1\n",
       "1  1.70  17.0  0.0002  10.0      1\n",
       "2  2.70  13.1  0.0002  10.0      1\n",
       "3  2.60  25.8  0.0002  10.0      1\n",
       "4  0.65  15.8  0.0002  10.0      1"
      ]
     },
     "execution_count": 23,
     "metadata": {},
     "output_type": "execute_result"
    }
   ],
   "source": [
    "df_master.head()"
   ]
  },
  {
   "cell_type": "code",
   "execution_count": 32,
   "metadata": {},
   "outputs": [
    {
     "data": {
      "text/plain": [
       "count    36420.000000\n",
       "mean         2.103177\n",
       "std          3.049861\n",
       "min          1.100000\n",
       "25%          1.400000\n",
       "50%          1.500000\n",
       "75%          1.600000\n",
       "max         44.300000\n",
       "Name: m, dtype: float64"
      ]
     },
     "execution_count": 32,
     "metadata": {},
     "output_type": "execute_result"
    }
   ],
   "source": [
    "df_master['m'].describe()"
   ]
  },
  {
   "cell_type": "code",
   "execution_count": 33,
   "metadata": {},
   "outputs": [
    {
     "data": {
      "text/plain": [
       "count    36420.000000\n",
       "mean         0.335150\n",
       "std         14.541906\n",
       "min          0.000001\n",
       "25%          0.000004\n",
       "50%          0.000011\n",
       "75%          0.000097\n",
       "max       1300.000000\n",
       "Name: mdot, dtype: float64"
      ]
     },
     "execution_count": 33,
     "metadata": {},
     "output_type": "execute_result"
    }
   ],
   "source": [
    "df_master['mdot'].describe()"
   ]
  },
  {
   "cell_type": "markdown",
   "metadata": {},
   "source": [
    "## Calculation of physical quantities\n",
    "\n",
    "The next thing to do is calculate various quantities from the data such as the maximum luminosity, beaming factor etc.\n",
    "\n",
    "### Mass accretion rate in grams/second: $\\dot{m}_{gs}$\n",
    "\\begin{equation}\n",
    "    \\dot{m}_{gs} = \\dot{m} \\frac{M_{\\odot}}{\\mathrm{Myr}}\n",
    "\\end{equation}\n",
    "### Eddington Luminosity:\n",
    "\\begin{equation}\n",
    "    L_{Edd} = 1.2 \\times 10 ^{38} m\\\\\n",
    "\\end{equation}\n",
    "### Eddington Mass:\n",
    "\\begin{equation}\n",
    "    \\dot{m}_{Edd} = \\frac{ L_{Edd} } { \\eta c^{2} }\\\\\n",
    "\\end{equation}\n",
    "### Eddington Ratio:\n",
    "\\begin{equation}\n",
    "    \\dot{m}_{0} = \\frac{\\dot{m}}{\\dot{m}_{Edd}} \\\\\n",
    "\\end{equation}\n",
    "### Isotropic Luminosity:\n",
    "\\begin{equation}\n",
    "L_{xtot} =\n",
    "\\left\\{\n",
    "\t\\begin{array}{ll}\n",
    "\t\tL_{Edd} (1 + \\mathrm{log}(\\dot{m}_{0}))  & \\mbox{if } \\dot{m}_{0} \\geq 1 \\\\\n",
    "\t\tL_{Edd} \\dot{m}_{0} & \\mbox{otherwise}\n",
    "\t\\end{array}\n",
    "\\right.\n",
    "\\end{equation}\n",
    "### Beaming Factor:\n",
    "\\begin{equation}\n",
    "b =\n",
    "\\left\\{\n",
    "\t\\begin{array}{ll}\n",
    "\t\t1  & \\mbox{if } \\dot{m}_{0} < 8.5 \\\\\n",
    "\t\t73/\\dot{m}_{0}^{2} & \\mbox{if } \\dot{m}_{0} \\geq 8.5 \\\\\n",
    "\t\t3.2 \\times 10^{-3} & \\mbox{if } \\dot{m}_{0} > 150 \\\\\n",
    "\t\\end{array}\n",
    "\\right.\n",
    "\\end{equation}\n",
    "### Maximum Beamed Luminosity:\n",
    "\\begin{equation}\n",
    "    L_{x} = \\frac{ L_{xtot} } { b }\\\\\n",
    "\t\\label{eq:Lx}\n",
    "\\end{equation}\n",
    "### Eddington Ratios for beamed and unbeamed:\n",
    "\\begin{equation}\n",
    "    \\mathrm{ratio} = \\frac{ L_{xtot} } { L_{Edd} }\\\\\n",
    "    \\mathrm{ratio_{beamed}} = \\frac{ L_{x} } { L_{Edd} }\\\\\n",
    "\\end{equation}\n",
    "### Full Opening Angle:\n",
    "\\begin{equation}\n",
    "    b = 1-\\mathrm{cos}(\\theta/2)\\\\\n",
    "    \\therefore \\theta = 2\\mathrm{arccos}(1-b)\\\\\n",
    "\\end{equation}\n",
    "### Wind Opening Angle:\n",
    "\\begin{equation}\n",
    "\\zeta = \\mathrm{tan}\\left [ \\frac{\\pi}{2} - \\mathrm{acos} \\left (  1 - \\frac{73}{\\dot{m_{0}}^{2}}   \\right )   \\right ]\n",
    "\t\\label{eq:}\n",
    "\\end{equation}\n",
    "### Schwarzchild Radius (cm):\n",
    "\\begin{equation}\n",
    "R_{s} = \\frac{2GM_{1}}{c^{2}}\n",
    "\\end{equation}\n",
    "### Spherization Radius:\n",
    "\\begin{equation}\n",
    "R_{sph} \\approx 27 \\frac{ \\dot{M} R_{s}} {4 \\dot{M_{E}} }\n",
    "\\end{equation}\n"
   ]
  },
  {
   "cell_type": "markdown",
   "metadata": {},
   "source": []
  },
  {
   "cell_type": "code",
   "execution_count": null,
   "metadata": {},
   "outputs": [],
   "source": []
  }
 ],
 "metadata": {
  "kernelspec": {
   "display_name": "Python 3",
   "language": "python",
   "name": "python3"
  },
  "language_info": {
   "codemirror_mode": {
    "name": "ipython",
    "version": 3
   },
   "file_extension": ".py",
   "mimetype": "text/x-python",
   "name": "python",
   "nbconvert_exporter": "python",
   "pygments_lexer": "ipython3",
   "version": "3.6.8"
  }
 },
 "nbformat": 4,
 "nbformat_minor": 2
}
