{
 "cells": [
  {
   "cell_type": "code",
   "execution_count": 6,
   "metadata": {},
   "outputs": [],
   "source": [
    "import pandas as pd\n",
    "import numpy as np\n",
    "import matplotlib.pyplot as plt\n",
    "import glob\n",
    "import os"
   ]
  },
  {
   "cell_type": "code",
   "execution_count": 2,
   "metadata": {},
   "outputs": [],
   "source": [
    "df_dict = {}  #Dictionary for storing dataframes for m_dot\n",
    "\n",
    "\n",
    "#CGS UNITS\n",
    "eta = 0.1   #Efficiency factor for Eddington Mass\n",
    "c = 3E10     #Speed of Light in cm/s\n",
    "Msol = 1.989E33 #Mass of sun in g\n",
    "Myr = 31557600 * 1E6 #1 Myr in Seconds\n",
    "yr = 31557600 #1 yr in Seconds\n",
    "\n",
    "\n",
    "a_bh = 0.998 #Black hole max spin\n",
    "a_ns = 0.001 #NS average spin\n",
    "\n",
    "G_SI = 6.67408E-11 #N.(m^2)/(kg)^2 \n",
    "G = 6.674E-8 #(cm)^3 g^-1 s^-2\n",
    "pi = np.pi"
   ]
  },
  {
   "cell_type": "code",
   "execution_count": 7,
   "metadata": {},
   "outputs": [],
   "source": [
    "os.chdir('data_mdot')\n",
    "files = glob.glob('*.dat')"
   ]
  },
  {
   "cell_type": "code",
   "execution_count": 8,
   "metadata": {},
   "outputs": [
    {
     "name": "stdout",
     "output_type": "stream",
     "text": [
      "Z_0.002_tage_50.dat\n",
      "Z_0.002_tage_5000.dat\n",
      "Z_0.0002_tage_20.dat\n",
      "Z_0.02_tage_10.dat\n",
      "Z_0.02_tage_2000.dat\n",
      "Z_0.0002_tage_50.dat\n",
      "Z_0.02_tage_50.dat\n",
      "Z_0.002_tage_100.dat\n",
      "Z_0.0002_tage_5000.dat\n",
      "Z_0.02_tage_20.dat\n",
      "Z_0.0002_tage_100.dat\n",
      "Z_0.002_tage_500.dat\n",
      "Z_0.0002_tage_2000.dat\n",
      "Z_0.02_tage_5000.dat\n",
      "Z_0.02_tage_1000.dat\n",
      "Z_0.02_tage_10000.dat\n",
      "Z_0.002_tage_2000.dat\n",
      "Z_0.0002_tage_1000.dat\n",
      "Z_0.02_tage_200.dat\n",
      "Z_0.002_tage_200.dat\n",
      "Z_0.002_tage_1000.dat\n",
      "Z_0.0002_tage_200.dat\n",
      "Z_0.002_tage_20.dat\n",
      "Z_0.0002_tage_10000.dat\n",
      "Z_0.0002_tage_500.dat\n",
      "Z_0.0002_tage_10.dat\n",
      "Z_0.002_tage_10000.dat\n",
      "Z_0.02_tage_100.dat\n",
      "Z_0.002_tage_10.dat\n",
      "Z_0.02_tage_500.dat\n"
     ]
    }
   ],
   "source": [
    "for filename in files:\n",
    "    print(filename)\n",
    "    df_dict[filename] = pd.read_csv(filename, delim_whitespace=True,\n",
    "           header=None, names=['mdot', 'm', 'idum', 'iidd'])\n",
    "\n",
    "    cut_string = filename.split(sep='_', maxsplit=4)\n",
    "    df_dict[filename]['Z'] = float(cut_string[1])\n",
    "    df_dict[filename]['tage'] = float(cut_string[3][:-4])"
   ]
  },
  {
   "cell_type": "code",
   "execution_count": 10,
   "metadata": {},
   "outputs": [
    {
     "name": "stderr",
     "output_type": "stream",
     "text": [
      "/home/nk7g14/anaconda3/lib/python3.6/site-packages/ipykernel_launcher.py:2: FutureWarning: Sorting because non-concatenation axis is not aligned. A future version\n",
      "of pandas will change to not sort by default.\n",
      "\n",
      "To accept the future behavior, pass 'sort=False'.\n",
      "\n",
      "To retain the current behavior and silence the warning, pass 'sort=True'.\n",
      "\n",
      "  \n",
      "/home/nk7g14/anaconda3/lib/python3.6/site-packages/ipykernel_launcher.py:38: RuntimeWarning: invalid value encountered in arccos\n",
      "/home/nk7g14/anaconda3/lib/python3.6/site-packages/ipykernel_launcher.py:45: RuntimeWarning: invalid value encountered in log\n",
      "/home/nk7g14/anaconda3/lib/python3.6/site-packages/ipykernel_launcher.py:46: RuntimeWarning: invalid value encountered in log\n"
     ]
    }
   ],
   "source": [
    "\n",
    "df_master = pd.concat(df_dict, ignore_index=True)\n",
    "m = df_master['m']\n",
    "mdot = df_master['mdot']\n",
    "\n",
    "df_master['mdot_gs'] = mdot * (Msol/Myr)   #Mass accretion rate in g/s\n",
    "mdot_gs = df_master['mdot_gs']\n",
    "\n",
    "df_master['LEdd'] = 1.2E38 * m #ERG/S\n",
    "LEdd = df_master['LEdd']\n",
    "df_master['MEdd'] = np.where(m <= 2.5, LEdd / (0.2 * c**2), LEdd / (1/12 * c**2))\n",
    "#Ledd = eta * M_dot_eddington * c^2 where eta = 0.2 for NS and 1/12 for bh\n",
    "MEdd = df_master['MEdd']    \n",
    "df_master['mdot_ratio'] = mdot_gs / MEdd #AKA Eddington Ratio\n",
    "mdot_ratio = df_master['mdot_ratio']\n",
    "\n",
    "df_master['XLsph'] = abs(2.2E39 * (m/10) * (mdot_ratio/10)**2 * (1 + np.log(mdot_ratio)))\n",
    "df_master['XLsph2'] = 2.2E39 * (m/10) * (mdot_ratio/10)**2\n",
    "df_master['LXtot'] = np.where(mdot_ratio > 1, LEdd * (1 + np.log(mdot_ratio)), LEdd * mdot_ratio)\n",
    "#df_master['LXtot'] = LEdd * (1 + np.log(mdot_ratio))\n",
    "\n",
    "\n",
    "df_master['b'] = np.where(mdot_ratio >= 8.5, 73/mdot_ratio**2, 1)\n",
    "df_master['b'] = np.where(mdot_ratio >= 150, 3.2E-3, df_master['b'])\n",
    "\n",
    "df_master['Lx'] = df_master['LXtot']/df_master['b']\n",
    "\n",
    "df_master['ratio'] = df_master['LXtot'] / df_master['LEdd']\n",
    "df_master['ratio_beamed'] = df_master['Lx'] / df_master['LEdd']\n",
    "\n",
    "df_master['theta'] = 2 * np.arccos(1-df_master['b']) #full opening angle in rad\n",
    "df_master['theta_deg'] = df_master['theta'] * 180/np.pi #deg\n",
    "df_master['theta_half_deg'] = df_master['theta_deg'] / 2 #Half opening angle\n",
    "\n",
    "df_master['schw_r'] = 2 * G * m * Msol / c**2   #Schwarzschild radius (cm)\n",
    "df_master['r_isco_nospin'] = (6 * G * m * Msol) / c**2 #ISCO (nospin) (cm)\n",
    "\n",
    "df_master['zeta'] = np.tan((pi/2) - np.arccos(1 - (73/(df_master['mdot_ratio']**2))))\n",
    "df_master['r_isco'] = np.where(m < 2.5, 6, 1.25)    #Units of R_g (i think)\n",
    "e_wind = 0.25 #Normally between 0.25 to 0.95 (check latex)\n",
    "beta = 1.4 #Velocity of the wind, distinct from the beta used in ulxlc\n",
    "df_master['r_sph'] = df_master['r_isco'] * df_master['mdot_ratio']\n",
    "df_master['r_out'] = 3 * e_wind / (beta * df_master['zeta']) * df_master['mdot_ratio']**3/2 * df_master['r_isco']\n",
    "df_master['P_wind'] = np.where(m < 2.5,\n",
    "         G * m * Msol * pi / (3 * c**3 * a_ns) * df_master['r_out']**3 * ((1 - (df_master['r_isco']/df_master['r_out']))**3)/(np.log(df_master['r_out']/df_master['r_isco'])),\n",
    "         G * m * Msol * pi / (3 * c**3 * a_bh) * df_master['r_out']**3 * ((1 - (df_master['r_isco']/df_master['r_out']))**3)/(np.log(df_master['r_out']/df_master['r_isco'])))\n",
    "df_master['f_wind'] = 1 / df_master['P_wind']\n"
   ]
  },
  {
   "cell_type": "code",
   "execution_count": 18,
   "metadata": {},
   "outputs": [
    {
     "data": {
      "text/plain": [
       "['seaborn-paper',\n",
       " 'seaborn-pastel',\n",
       " 'seaborn-colorblind',\n",
       " 'seaborn-poster',\n",
       " 'Solarize_Light2',\n",
       " 'seaborn-white',\n",
       " 'seaborn-dark-palette',\n",
       " 'bmh',\n",
       " '_classic_test',\n",
       " 'seaborn-darkgrid',\n",
       " 'seaborn',\n",
       " 'seaborn-bright',\n",
       " 'ggplot',\n",
       " 'seaborn-talk',\n",
       " 'seaborn-notebook',\n",
       " 'seaborn-dark',\n",
       " 'seaborn-whitegrid',\n",
       " 'tableau-colorblind10',\n",
       " 'seaborn-muted',\n",
       " 'dark_background',\n",
       " 'grayscale',\n",
       " 'classic',\n",
       " 'fivethirtyeight',\n",
       " 'seaborn-ticks',\n",
       " 'seaborn-deep',\n",
       " 'fast']"
      ]
     },
     "execution_count": 18,
     "metadata": {},
     "output_type": "execute_result"
    }
   ],
   "source": [
    "plt.style.available"
   ]
  },
  {
   "cell_type": "code",
   "execution_count": 23,
   "metadata": {},
   "outputs": [],
   "source": [
    "plt.style.use('seaborn-bright')"
   ]
  },
  {
   "cell_type": "code",
   "execution_count": 24,
   "metadata": {},
   "outputs": [
    {
     "data": {
      "text/plain": [
       "array([[<matplotlib.axes._subplots.AxesSubplot object at 0x7f7ee565df28>,\n",
       "        <matplotlib.axes._subplots.AxesSubplot object at 0x7f7ee55d6588>,\n",
       "        <matplotlib.axes._subplots.AxesSubplot object at 0x7f7ee5e3e2e8>,\n",
       "        <matplotlib.axes._subplots.AxesSubplot object at 0x7f7ee549e860>,\n",
       "        <matplotlib.axes._subplots.AxesSubplot object at 0x7f7ee5444dd8>],\n",
       "       [<matplotlib.axes._subplots.AxesSubplot object at 0x7f7ee5475390>,\n",
       "        <matplotlib.axes._subplots.AxesSubplot object at 0x7f7ee541d908>,\n",
       "        <matplotlib.axes._subplots.AxesSubplot object at 0x7f7ee53c4eb8>,\n",
       "        <matplotlib.axes._subplots.AxesSubplot object at 0x7f7ee53c4ef0>,\n",
       "        <matplotlib.axes._subplots.AxesSubplot object at 0x7f7ee539c9b0>],\n",
       "       [<matplotlib.axes._subplots.AxesSubplot object at 0x7f7ee5345f28>,\n",
       "        <matplotlib.axes._subplots.AxesSubplot object at 0x7f7ee53764e0>,\n",
       "        <matplotlib.axes._subplots.AxesSubplot object at 0x7f7ee531ca58>,\n",
       "        <matplotlib.axes._subplots.AxesSubplot object at 0x7f7ee52c3fd0>,\n",
       "        <matplotlib.axes._subplots.AxesSubplot object at 0x7f7ee52f4588>],\n",
       "       [<matplotlib.axes._subplots.AxesSubplot object at 0x7f7ee529cb00>,\n",
       "        <matplotlib.axes._subplots.AxesSubplot object at 0x7f7ee524e0b8>,\n",
       "        <matplotlib.axes._subplots.AxesSubplot object at 0x7f7ee5278630>,\n",
       "        <matplotlib.axes._subplots.AxesSubplot object at 0x7f7ee521eba8>,\n",
       "        <matplotlib.axes._subplots.AxesSubplot object at 0x7f7ee51cd160>],\n",
       "       [<matplotlib.axes._subplots.AxesSubplot object at 0x7f7ee51f36d8>,\n",
       "        <matplotlib.axes._subplots.AxesSubplot object at 0x7f7ee519dc50>,\n",
       "        <matplotlib.axes._subplots.AxesSubplot object at 0x7f7ee514e208>,\n",
       "        <matplotlib.axes._subplots.AxesSubplot object at 0x7f7ee5175780>,\n",
       "        <matplotlib.axes._subplots.AxesSubplot object at 0x7f7ee511ecf8>],\n",
       "       [<matplotlib.axes._subplots.AxesSubplot object at 0x7f7ee50cd2b0>,\n",
       "        <matplotlib.axes._subplots.AxesSubplot object at 0x7f7ee50f5828>,\n",
       "        <matplotlib.axes._subplots.AxesSubplot object at 0x7f7ee509dda0>,\n",
       "        <matplotlib.axes._subplots.AxesSubplot object at 0x7f7ee504e358>,\n",
       "        <matplotlib.axes._subplots.AxesSubplot object at 0x7f7ee50758d0>]],\n",
       "      dtype=object)"
      ]
     },
     "execution_count": 24,
     "metadata": {},
     "output_type": "execute_result"
    },
    {
     "data": {
      "image/png": "[encoded data removed]",
      "text/plain": [
       "<Figure size 576x396 with 30 Axes>"
      ]
     },
     "metadata": {},
     "output_type": "display_data"
    }
   ],
   "source": [
    "df_master.hist()"
   ]
  },
  {
   "cell_type": "code",
   "execution_count": null,
   "metadata": {},
   "outputs": [],
   "source": []
  }
 ],
 "metadata": {
  "kernelspec": {
   "display_name": "Python 3",
   "language": "python",
   "name": "python3"
  },
  "language_info": {
   "codemirror_mode": {
    "name": "ipython",
    "version": 3
   },
   "file_extension": ".py",
   "mimetype": "text/x-python",
   "name": "python",
   "nbconvert_exporter": "python",
   "pygments_lexer": "ipython3",
   "version": "3.6.8"
  }
 },
 "nbformat": 4,
 "nbformat_minor": 2
}
