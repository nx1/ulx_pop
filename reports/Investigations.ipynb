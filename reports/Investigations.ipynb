{
 "cells": [
  {
   "cell_type": "code",
   "execution_count": null,
   "metadata": {},
   "outputs": [],
   "source": [
    "import pandas as pd\n",
    "from pathlib import Path\n",
    "import glob\n",
    "import matplotlib.pyplot as plt\n",
    "import numpy as np"
   ]
  },
  {
   "cell_type": "code",
   "execution_count": null,
   "metadata": {},
   "outputs": [],
   "source": [
    "pd.options.display.max_columns = None\n",
    "pd.set_option('display.max_rows', 200)"
   ]
  },
  {
   "cell_type": "code",
   "execution_count": null,
   "metadata": {},
   "outputs": [],
   "source": [
    "def load_systems_dataframe(ulx_only=False, beamed=False, half_opening_l_45=False):\n",
    "    systems_df_path = Path('../data/processed/all_systems_df.csv')\n",
    "    df = pd.read_csv(systems_df_path)\n",
    "    if ulx_only:\n",
    "        df = df[df['Lx'] > 1E39]\n",
    "    if beamed:\n",
    "        df = df[df['b'] < 1]\n",
    "    if half_opening_l_45:\n",
    "        df = df[df['theta_half_deg'] < 45]\n",
    "    df = df.reset_index()\n",
    "    df = df.drop(columns=['index', 'Unnamed: 0'])\n",
    "    return df"
   ]
  },
  {
   "cell_type": "code",
   "execution_count": null,
   "metadata": {},
   "outputs": [],
   "source": [
    "systems_df = load_systems_dataframe(True, False, False)"
   ]
  },
  {
   "cell_type": "code",
   "execution_count": null,
   "metadata": {},
   "outputs": [],
   "source": [
    "systems_df"
   ]
  },
  {
   "cell_type": "code",
   "execution_count": null,
   "metadata": {},
   "outputs": [],
   "source": [
    "#I only ran these simulations to 0.4 BH_NS ratio before realising my method could be faster.\n",
    "df_a = pd.read_csv('../data/processed/df_a_full.csv')"
   ]
  },
  {
   "cell_type": "code",
   "execution_count": null,
   "metadata": {},
   "outputs": [],
   "source": [
    "df_a"
   ]
  },
  {
   "cell_type": "code",
   "execution_count": null,
   "metadata": {},
   "outputs": [],
   "source": [
    "BH_NS_RATIO = 0.1\n",
    "plt.xlabel('alive/dead ratio')\n",
    "plt.ylabel('Number of systems')\n",
    "plt.title('Transient ULX distribution')\n",
    "\n",
    "for BH_NS_RATIO in df_a['BH_NS'].unique():\n",
    "    df = df_a[(df_a['BH_NS'] == BH_NS_RATIO) & (df_a['ratio']!=0) & (df_a['ratio']!=1)]\n",
    "    # df = df_a[(df_a['BH_NS'] == BH_NS_RATIO)]\n",
    "    number_of_systems = len(df)\n",
    "    plt.hist(df['ratio'], bins=50, label=round(BH_NS_RATIO, 2), density=True)\n",
    "plt.legend()"
   ]
  },
  {
   "cell_type": "code",
   "execution_count": null,
   "metadata": {},
   "outputs": [],
   "source": [
    "df"
   ]
  },
  {
   "cell_type": "code",
   "execution_count": null,
   "metadata": {},
   "outputs": [],
   "source": [
    "my_list = list(systems_df.is_bh)\n",
    "Z_list = list(systems_df.Z)\n",
    "\n",
    "is_bh = [my_list[s] for s in df['system_num']]\n",
    "Z = [Z_list[s] for s in df['system_num']]\n",
    "df['is_bh'] = is_bh\n",
    "df['Z'] = Z"
   ]
  },
  {
   "cell_type": "code",
   "execution_count": null,
   "metadata": {},
   "outputs": [],
   "source": [
    "#I've realised that some of the systems have far less simulations on them than others, this needs to be sorted\n",
    "print(df['system_num'].value_counts().sort_index())\n",
    "print('==========')\n",
    "print(df['system_num'].value_counts().sort_values())"
   ]
  },
  {
   "cell_type": "code",
   "execution_count": null,
   "metadata": {},
   "outputs": [],
   "source": [
    "df['is_bh'].value_counts()"
   ]
  },
  {
   "cell_type": "code",
   "execution_count": null,
   "metadata": {},
   "outputs": [],
   "source": [
    "#Example of poorly sampled system\n",
    "df[df['system_num'] == 529].hist('inclination')"
   ]
  },
  {
   "cell_type": "code",
   "execution_count": null,
   "metadata": {},
   "outputs": [],
   "source": [
    "inclinations = np.arange(91)\n",
    "dincls = np.arange(1,46)\n",
    "number_of_ulxs = 151\n",
    "\n",
    "repeats = 10\n",
    "\n",
    "number_of_required_simulations = len(inclinations)*len(dincls)*repeats*number_of_ulxs\n",
    "\n",
    "time_per_simulation = 0.3\n",
    "simulation_hours = number_of_required_simulations*time_per_simulation/3600"
   ]
  },
  {
   "cell_type": "code",
   "execution_count": null,
   "metadata": {},
   "outputs": [],
   "source": [
    "simulation_hours"
   ]
  },
  {
   "cell_type": "code",
   "execution_count": null,
   "metadata": {},
   "outputs": [],
   "source": [
    "cols = ['system_num', 'Z', 'is_bh', 'dincl', 'inclination', 'alive', 'dead', 'ratio']\n",
    "df = df[cols]"
   ]
  },
  {
   "cell_type": "code",
   "execution_count": null,
   "metadata": {},
   "outputs": [],
   "source": [
    "df"
   ]
  },
  {
   "cell_type": "code",
   "execution_count": null,
   "metadata": {},
   "outputs": [],
   "source": [
    "df_sub = df[df['Z'] == 0.0002]\n",
    "plt.hist2d(df_sub['dincl'], df_sub['ratio'], bins=45)"
   ]
  },
  {
   "cell_type": "code",
   "execution_count": null,
   "metadata": {},
   "outputs": [],
   "source": [
    "systems_df['P_wind_years'] = systems_df['P_wind']/60/60/24/365"
   ]
  },
  {
   "cell_type": "markdown",
   "metadata": {},
   "source": [
    "# Checking new lightcurve simulation"
   ]
  },
  {
   "cell_type": "code",
   "execution_count": null,
   "metadata": {},
   "outputs": [],
   "source": [
    "csv_files = glob.glob('../src/new_curve_results/*.csv')\n",
    "res = {}\n",
    "for file in csv_files:\n",
    "    res[file] = pd.read_csv(file)\n",
    "df_new = pd.concat(res.items())"
   ]
  },
  {
   "cell_type": "code",
   "execution_count": null,
   "metadata": {},
   "outputs": [],
   "source": []
  }
 ],
 "metadata": {
  "kernelspec": {
   "display_name": "Python 3",
   "language": "python",
   "name": "python3"
  },
  "language_info": {
   "codemirror_mode": {
    "name": "ipython",
    "version": 3
   },
   "file_extension": ".py",
   "mimetype": "text/x-python",
   "name": "python",
   "nbconvert_exporter": "python",
   "pygments_lexer": "ipython3",
   "version": "3.7.6"
  }
 },
 "nbformat": 4,
 "nbformat_minor": 4
}
