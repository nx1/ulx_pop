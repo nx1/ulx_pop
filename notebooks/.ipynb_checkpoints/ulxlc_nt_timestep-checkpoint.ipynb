{
 "cells": [
  {
   "cell_type": "code",
   "execution_count": null,
   "metadata": {},
   "outputs": [],
   "source": [
    "import os\n",
    "os.chdir('../src')\n",
    "import ctypes\n",
    "import numpy as np\n",
    "import matplotlib.pyplot as plt"
   ]
  },
  {
   "cell_type": "code",
   "execution_count": null,
   "metadata": {},
   "outputs": [],
   "source": [
    "from ulxlc import ULXLC\n",
    "from constants import params_default"
   ]
  },
  {
   "cell_type": "code",
   "execution_count": null,
   "metadata": {},
   "outputs": [],
   "source": [
    "ulxlc = ULXLC()"
   ]
  },
  {
   "cell_type": "code",
   "execution_count": null,
   "metadata": {},
   "outputs": [],
   "source": [
    "ulxlc.set_params(*params_default)"
   ]
  },
  {
   "cell_type": "code",
   "execution_count": null,
   "metadata": {},
   "outputs": [],
   "source": [
    "timesteps = [0.01, 0.1, 1.0, 10.0]\n",
    "nts = list(range(100,5000,100))\n",
    "\n",
    "for ts in timesteps:\n",
    "    maxs = []\n",
    "    mins = []\n",
    "    for nt in nts:\n",
    "        ulxlc = ULXLC(nt, ts)\n",
    "        ulxlc.set_params(*params_default)\n",
    "        ulxlc.ulxlc_model()\n",
    "        maxs.append(ulxlc.get_lc_max())\n",
    "        mins.append(ulxlc.get_lc_min())\n",
    "\n",
    "    plt.figure()\n",
    "    plt.title(f'timestep: {ts}')\n",
    "    plt.xlabel('nt')\n",
    "    plt.ylabel('value')\n",
    "    plt.plot(nts, maxs, c='b', label='lc_max')\n",
    "    plt.plot(nts, mins, c='r', label='lc_min')\n",
    "    plt.legend()"
   ]
  },
  {
   "cell_type": "code",
   "execution_count": null,
   "metadata": {},
   "outputs": [],
   "source": [
    "timesteps = 1.0\n",
    "nts = 500\n",
    "\n",
    "inclinations = [0,20,45,75,90]\n",
    "dincls = list(range(46))\n",
    "\n",
    "\n",
    "ulxlc = ULXLC(nt, ts)\n",
    "\n",
    "for incl in inclinations:\n",
    "    maxs = []\n",
    "    mins = []\n",
    "    params_default[3] = incl\n",
    "    for dincl in dincls:\n",
    "        params_default[4] = dincl\n",
    "        ulxlc.set_params(*params_default)\n",
    "        ulxlc.ulxlc_model()\n",
    "        maxs.append(ulxlc.get_lc_max())\n",
    "        mins.append(ulxlc.get_lc_min())\n",
    "    plt.figure()\n",
    "    plt.title(f'inclination: {incl}')\n",
    "    plt.xlabel('dincl')\n",
    "    plt.ylabel('value')\n",
    "    plt.plot(dincls, maxs, c='b', label='lc_max')\n",
    "    plt.plot(dincls, mins, c='r', label='lc_min')\n",
    "    plt.legend()"
   ]
  },
  {
   "cell_type": "code",
   "execution_count": null,
   "metadata": {},
   "outputs": [],
   "source": [
    "ulxlc = ULXLC(5000, 0.01)\n",
    "ulxlc.set_params(*params_default)\n",
    "%timeit ulxlc.ulxlc_model()"
   ]
  },
  {
   "cell_type": "code",
   "execution_count": null,
   "metadata": {},
   "outputs": [],
   "source": [
    "ulxlc = ULXLC(2500, 0.1)\n",
    "ulxlc.set_params(*params_default)\n",
    "%timeit ulxlc.ulxlc_model()"
   ]
  },
  {
   "cell_type": "code",
   "execution_count": null,
   "metadata": {},
   "outputs": [],
   "source": [
    "ulxlc = ULXLC(2500, 1.0)\n",
    "ulxlc.set_params(*params_default)\n",
    "%timeit ulxlc.ulxlc_model()"
   ]
  },
  {
   "cell_type": "code",
   "execution_count": null,
   "metadata": {},
   "outputs": [],
   "source": [
    "ulxlc = ULXLC(500, 1.0)\n",
    "ulxlc.set_params(*params_default)\n",
    "%timeit ulxlc.ulxlc_model()"
   ]
  },
  {
   "cell_type": "code",
   "execution_count": null,
   "metadata": {},
   "outputs": [],
   "source": [
    "params_default"
   ]
  },
  {
   "cell_type": "code",
   "execution_count": null,
   "metadata": {},
   "outputs": [],
   "source": []
  }
 ],
 "metadata": {
  "kernelspec": {
   "display_name": "Python 3",
   "language": "python",
   "name": "python3"
  },
  "language_info": {
   "codemirror_mode": {
    "name": "ipython",
    "version": 3
   },
   "file_extension": ".py",
   "mimetype": "text/x-python",
   "name": "python",
   "nbconvert_exporter": "python",
   "pygments_lexer": "ipython3",
   "version": "3.6.9"
  }
 },
 "nbformat": 4,
 "nbformat_minor": 4
}
