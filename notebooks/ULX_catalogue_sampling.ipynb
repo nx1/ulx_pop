{
 "cells": [
  {
   "cell_type": "code",
   "execution_count": 24,
   "metadata": {},
   "outputs": [],
   "source": [
    "import pandas as pd\n",
    "import numpy as np\n",
    "import matplotlib.pyplot as plt\n",
    "\n",
    "from astropy.io import fits"
   ]
  },
  {
   "cell_type": "code",
   "execution_count": 26,
   "metadata": {},
   "outputs": [],
   "source": [
    "ulx_file = '../data/external/Earnshaw_ULX_cat/earnshaw_Xraycatalogue.fits'\n",
    "with fits.open(ulx_file) as hdul:\n",
    "    #hdul.info()\n",
    "    data = pd.DataFrame(hdul[1].data)"
   ]
  },
  {
   "cell_type": "code",
   "execution_count": 27,
   "metadata": {},
   "outputs": [
    {
     "data": {
      "text/html": [
       "<div>\n",
       "<style scoped>\n",
       "    .dataframe tbody tr th:only-of-type {\n",
       "        vertical-align: middle;\n",
       "    }\n",
       "\n",
       "    .dataframe tbody tr th {\n",
       "        vertical-align: top;\n",
       "    }\n",
       "\n",
       "    .dataframe thead th {\n",
       "        text-align: right;\n",
       "    }\n",
       "</style>\n",
       "<table border=\"1\" class=\"dataframe\">\n",
       "  <thead>\n",
       "    <tr style=\"text-align: right;\">\n",
       "      <th></th>\n",
       "      <th>DETID</th>\n",
       "      <th>SRCID</th>\n",
       "      <th>DR3SRCID</th>\n",
       "      <th>DR3DETID</th>\n",
       "      <th>DR3DETDIST</th>\n",
       "      <th>DR3SRCDIST</th>\n",
       "      <th>DR3MULT</th>\n",
       "      <th>IAUNAME</th>\n",
       "      <th>SRC_NUM</th>\n",
       "      <th>OBS_ID</th>\n",
       "      <th>...</th>\n",
       "      <th>EP_8_LUMINOSITY_MAX</th>\n",
       "      <th>IN_CP02</th>\n",
       "      <th>IN_S04</th>\n",
       "      <th>IN_LB05</th>\n",
       "      <th>IN_LM05</th>\n",
       "      <th>IN_S11</th>\n",
       "      <th>IN_W11</th>\n",
       "      <th>IS_COMPLETE_38</th>\n",
       "      <th>IS_COMPLETE_39</th>\n",
       "      <th>IS_COMPLETE_40</th>\n",
       "    </tr>\n",
       "  </thead>\n",
       "  <tbody>\n",
       "    <tr>\n",
       "      <th>0</th>\n",
       "      <td>382</td>\n",
       "      <td>118684</td>\n",
       "      <td>156</td>\n",
       "      <td>156</td>\n",
       "      <td>3.412370</td>\n",
       "      <td>3.412370</td>\n",
       "      <td>1</td>\n",
       "      <td>3XMM J000155.3-152551</td>\n",
       "      <td>26</td>\n",
       "      <td>0204790101</td>\n",
       "      <td>...</td>\n",
       "      <td>3.706074e+36</td>\n",
       "      <td>False</td>\n",
       "      <td>False</td>\n",
       "      <td>False</td>\n",
       "      <td>False</td>\n",
       "      <td>False</td>\n",
       "      <td>False</td>\n",
       "      <td>True</td>\n",
       "      <td>True</td>\n",
       "      <td>True</td>\n",
       "    </tr>\n",
       "    <tr>\n",
       "      <th>1</th>\n",
       "      <td>396</td>\n",
       "      <td>118656</td>\n",
       "      <td>163</td>\n",
       "      <td>163</td>\n",
       "      <td>1.785300</td>\n",
       "      <td>1.785300</td>\n",
       "      <td>1</td>\n",
       "      <td>3XMM J000158.1-152758</td>\n",
       "      <td>3</td>\n",
       "      <td>0204790101</td>\n",
       "      <td>...</td>\n",
       "      <td>9.236017e+36</td>\n",
       "      <td>False</td>\n",
       "      <td>False</td>\n",
       "      <td>False</td>\n",
       "      <td>False</td>\n",
       "      <td>False</td>\n",
       "      <td>False</td>\n",
       "      <td>True</td>\n",
       "      <td>True</td>\n",
       "      <td>True</td>\n",
       "    </tr>\n",
       "    <tr>\n",
       "      <th>2</th>\n",
       "      <td>410</td>\n",
       "      <td>118560</td>\n",
       "      <td>170</td>\n",
       "      <td>170</td>\n",
       "      <td>0.752346</td>\n",
       "      <td>0.752346</td>\n",
       "      <td>1</td>\n",
       "      <td>3XMM J000201.4-153034</td>\n",
       "      <td>8</td>\n",
       "      <td>0204790101</td>\n",
       "      <td>...</td>\n",
       "      <td>6.361064e+36</td>\n",
       "      <td>False</td>\n",
       "      <td>False</td>\n",
       "      <td>False</td>\n",
       "      <td>False</td>\n",
       "      <td>False</td>\n",
       "      <td>False</td>\n",
       "      <td>True</td>\n",
       "      <td>True</td>\n",
       "      <td>True</td>\n",
       "    </tr>\n",
       "    <tr>\n",
       "      <th>3</th>\n",
       "      <td>430</td>\n",
       "      <td>118540</td>\n",
       "      <td>178</td>\n",
       "      <td>178</td>\n",
       "      <td>2.738700</td>\n",
       "      <td>2.738700</td>\n",
       "      <td>1</td>\n",
       "      <td>3XMM J000205.0-152504</td>\n",
       "      <td>9</td>\n",
       "      <td>0204790101</td>\n",
       "      <td>...</td>\n",
       "      <td>6.028317e+36</td>\n",
       "      <td>False</td>\n",
       "      <td>False</td>\n",
       "      <td>False</td>\n",
       "      <td>False</td>\n",
       "      <td>False</td>\n",
       "      <td>False</td>\n",
       "      <td>True</td>\n",
       "      <td>True</td>\n",
       "      <td>True</td>\n",
       "    </tr>\n",
       "    <tr>\n",
       "      <th>4</th>\n",
       "      <td>5169</td>\n",
       "      <td>122027</td>\n",
       "      <td>2335</td>\n",
       "      <td>2497</td>\n",
       "      <td>1.099720</td>\n",
       "      <td>1.099720</td>\n",
       "      <td>1</td>\n",
       "      <td>3XMM J002012.0+591756</td>\n",
       "      <td>79</td>\n",
       "      <td>0152260101</td>\n",
       "      <td>...</td>\n",
       "      <td>7.193321e+35</td>\n",
       "      <td>False</td>\n",
       "      <td>False</td>\n",
       "      <td>False</td>\n",
       "      <td>False</td>\n",
       "      <td>False</td>\n",
       "      <td>False</td>\n",
       "      <td>False</td>\n",
       "      <td>False</td>\n",
       "      <td>False</td>\n",
       "    </tr>\n",
       "    <tr>\n",
       "      <th>...</th>\n",
       "      <td>...</td>\n",
       "      <td>...</td>\n",
       "      <td>...</td>\n",
       "      <td>...</td>\n",
       "      <td>...</td>\n",
       "      <td>...</td>\n",
       "      <td>...</td>\n",
       "      <td>...</td>\n",
       "      <td>...</td>\n",
       "      <td>...</td>\n",
       "      <td>...</td>\n",
       "      <td>...</td>\n",
       "      <td>...</td>\n",
       "      <td>...</td>\n",
       "      <td>...</td>\n",
       "      <td>...</td>\n",
       "      <td>...</td>\n",
       "      <td>...</td>\n",
       "      <td>...</td>\n",
       "      <td>...</td>\n",
       "      <td>...</td>\n",
       "    </tr>\n",
       "    <tr>\n",
       "      <th>2134</th>\n",
       "      <td>525383</td>\n",
       "      <td>43541</td>\n",
       "      <td>189988</td>\n",
       "      <td>-2147483648</td>\n",
       "      <td>NaN</td>\n",
       "      <td>2.288190</td>\n",
       "      <td>2</td>\n",
       "      <td>3XMM J233843.6-562849</td>\n",
       "      <td>25</td>\n",
       "      <td>0677770133</td>\n",
       "      <td>...</td>\n",
       "      <td>1.031139e+41</td>\n",
       "      <td>False</td>\n",
       "      <td>False</td>\n",
       "      <td>False</td>\n",
       "      <td>False</td>\n",
       "      <td>False</td>\n",
       "      <td>True</td>\n",
       "      <td>False</td>\n",
       "      <td>False</td>\n",
       "      <td>False</td>\n",
       "    </tr>\n",
       "    <tr>\n",
       "      <th>2135</th>\n",
       "      <td>525632</td>\n",
       "      <td>236202</td>\n",
       "      <td>190090</td>\n",
       "      <td>245060</td>\n",
       "      <td>1.201990</td>\n",
       "      <td>1.201990</td>\n",
       "      <td>1</td>\n",
       "      <td>3XMM J234000.7-121708</td>\n",
       "      <td>18</td>\n",
       "      <td>0055990301</td>\n",
       "      <td>...</td>\n",
       "      <td>1.107447e+39</td>\n",
       "      <td>False</td>\n",
       "      <td>False</td>\n",
       "      <td>False</td>\n",
       "      <td>False</td>\n",
       "      <td>False</td>\n",
       "      <td>True</td>\n",
       "      <td>False</td>\n",
       "      <td>False</td>\n",
       "      <td>False</td>\n",
       "    </tr>\n",
       "    <tr>\n",
       "      <th>2136</th>\n",
       "      <td>527019</td>\n",
       "      <td>241323</td>\n",
       "      <td>-2147483648</td>\n",
       "      <td>-2147483648</td>\n",
       "      <td>NaN</td>\n",
       "      <td>NaN</td>\n",
       "      <td>-32768</td>\n",
       "      <td>3XMM J234420.0+095548</td>\n",
       "      <td>24</td>\n",
       "      <td>0301651001</td>\n",
       "      <td>...</td>\n",
       "      <td>4.331900e+39</td>\n",
       "      <td>False</td>\n",
       "      <td>False</td>\n",
       "      <td>False</td>\n",
       "      <td>False</td>\n",
       "      <td>False</td>\n",
       "      <td>False</td>\n",
       "      <td>False</td>\n",
       "      <td>True</td>\n",
       "      <td>True</td>\n",
       "    </tr>\n",
       "    <tr>\n",
       "      <th>2137</th>\n",
       "      <td>529799</td>\n",
       "      <td>239871</td>\n",
       "      <td>191027</td>\n",
       "      <td>246016</td>\n",
       "      <td>0.586219</td>\n",
       "      <td>0.586219</td>\n",
       "      <td>1</td>\n",
       "      <td>3XMM J235122.5+200638</td>\n",
       "      <td>9</td>\n",
       "      <td>0093190301</td>\n",
       "      <td>...</td>\n",
       "      <td>1.188354e+40</td>\n",
       "      <td>False</td>\n",
       "      <td>False</td>\n",
       "      <td>False</td>\n",
       "      <td>False</td>\n",
       "      <td>False</td>\n",
       "      <td>True</td>\n",
       "      <td>False</td>\n",
       "      <td>False</td>\n",
       "      <td>True</td>\n",
       "    </tr>\n",
       "    <tr>\n",
       "      <th>2138</th>\n",
       "      <td>529821</td>\n",
       "      <td>239945</td>\n",
       "      <td>191045</td>\n",
       "      <td>246034</td>\n",
       "      <td>1.611630</td>\n",
       "      <td>1.611630</td>\n",
       "      <td>1</td>\n",
       "      <td>3XMM J235127.4+200651</td>\n",
       "      <td>11</td>\n",
       "      <td>0093190301</td>\n",
       "      <td>...</td>\n",
       "      <td>9.848713e+39</td>\n",
       "      <td>False</td>\n",
       "      <td>False</td>\n",
       "      <td>False</td>\n",
       "      <td>False</td>\n",
       "      <td>False</td>\n",
       "      <td>True</td>\n",
       "      <td>False</td>\n",
       "      <td>False</td>\n",
       "      <td>True</td>\n",
       "    </tr>\n",
       "  </tbody>\n",
       "</table>\n",
       "<p>2139 rows × 423 columns</p>\n",
       "</div>"
      ],
      "text/plain": [
       "       DETID   SRCID    DR3SRCID    DR3DETID  DR3DETDIST  DR3SRCDIST  DR3MULT  \\\n",
       "0        382  118684         156         156    3.412370    3.412370        1   \n",
       "1        396  118656         163         163    1.785300    1.785300        1   \n",
       "2        410  118560         170         170    0.752346    0.752346        1   \n",
       "3        430  118540         178         178    2.738700    2.738700        1   \n",
       "4       5169  122027        2335        2497    1.099720    1.099720        1   \n",
       "...      ...     ...         ...         ...         ...         ...      ...   \n",
       "2134  525383   43541      189988 -2147483648         NaN    2.288190        2   \n",
       "2135  525632  236202      190090      245060    1.201990    1.201990        1   \n",
       "2136  527019  241323 -2147483648 -2147483648         NaN         NaN   -32768   \n",
       "2137  529799  239871      191027      246016    0.586219    0.586219        1   \n",
       "2138  529821  239945      191045      246034    1.611630    1.611630        1   \n",
       "\n",
       "                    IAUNAME  SRC_NUM      OBS_ID  ... EP_8_LUMINOSITY_MAX  \\\n",
       "0     3XMM J000155.3-152551       26  0204790101  ...        3.706074e+36   \n",
       "1     3XMM J000158.1-152758        3  0204790101  ...        9.236017e+36   \n",
       "2     3XMM J000201.4-153034        8  0204790101  ...        6.361064e+36   \n",
       "3     3XMM J000205.0-152504        9  0204790101  ...        6.028317e+36   \n",
       "4     3XMM J002012.0+591756       79  0152260101  ...        7.193321e+35   \n",
       "...                     ...      ...         ...  ...                 ...   \n",
       "2134  3XMM J233843.6-562849       25  0677770133  ...        1.031139e+41   \n",
       "2135  3XMM J234000.7-121708       18  0055990301  ...        1.107447e+39   \n",
       "2136  3XMM J234420.0+095548       24  0301651001  ...        4.331900e+39   \n",
       "2137  3XMM J235122.5+200638        9  0093190301  ...        1.188354e+40   \n",
       "2138  3XMM J235127.4+200651       11  0093190301  ...        9.848713e+39   \n",
       "\n",
       "      IN_CP02  IN_S04  IN_LB05 IN_LM05 IN_S11 IN_W11 IS_COMPLETE_38  \\\n",
       "0       False   False    False   False  False  False           True   \n",
       "1       False   False    False   False  False  False           True   \n",
       "2       False   False    False   False  False  False           True   \n",
       "3       False   False    False   False  False  False           True   \n",
       "4       False   False    False   False  False  False          False   \n",
       "...       ...     ...      ...     ...    ...    ...            ...   \n",
       "2134    False   False    False   False  False   True          False   \n",
       "2135    False   False    False   False  False   True          False   \n",
       "2136    False   False    False   False  False  False          False   \n",
       "2137    False   False    False   False  False   True          False   \n",
       "2138    False   False    False   False  False   True          False   \n",
       "\n",
       "     IS_COMPLETE_39 IS_COMPLETE_40  \n",
       "0              True           True  \n",
       "1              True           True  \n",
       "2              True           True  \n",
       "3              True           True  \n",
       "4             False          False  \n",
       "...             ...            ...  \n",
       "2134          False          False  \n",
       "2135          False          False  \n",
       "2136           True           True  \n",
       "2137          False           True  \n",
       "2138          False           True  \n",
       "\n",
       "[2139 rows x 423 columns]"
      ]
     },
     "execution_count": 27,
     "metadata": {},
     "output_type": "execute_result"
    }
   ],
   "source": [
    "data"
   ]
  },
  {
   "cell_type": "code",
   "execution_count": 29,
   "metadata": {},
   "outputs": [],
   "source": [
    "# Filter to only include ULXs\n",
    "data = data[data['EP_8_LUMINOSITY_MAX'] >1E39]"
   ]
  },
  {
   "cell_type": "code",
   "execution_count": 30,
   "metadata": {},
   "outputs": [
    {
     "data": {
      "text/plain": [
       "894      13\n",
       "1915     11\n",
       "2049     10\n",
       "2231     10\n",
       "4349      7\n",
       "         ..\n",
       "29739     2\n",
       "29749     2\n",
       "32833     2\n",
       "29790     2\n",
       "34447     2\n",
       "Name: SRCID, Length: 81, dtype: int64"
      ]
     },
     "execution_count": 30,
     "metadata": {},
     "output_type": "execute_result"
    }
   ],
   "source": [
    "#Sources with more than 1 obervation\n",
    "sources = data['SRCID'].value_counts()[data['SRCID'].value_counts() > 1].sort_values(ascending=False)\n",
    "sources"
   ]
  },
  {
   "cell_type": "code",
   "execution_count": 31,
   "metadata": {},
   "outputs": [
    {
     "data": {
      "text/html": [
       "<div>\n",
       "<style scoped>\n",
       "    .dataframe tbody tr th:only-of-type {\n",
       "        vertical-align: middle;\n",
       "    }\n",
       "\n",
       "    .dataframe tbody tr th {\n",
       "        vertical-align: top;\n",
       "    }\n",
       "\n",
       "    .dataframe thead th {\n",
       "        text-align: right;\n",
       "    }\n",
       "</style>\n",
       "<table border=\"1\" class=\"dataframe\">\n",
       "  <thead>\n",
       "    <tr style=\"text-align: right;\">\n",
       "      <th></th>\n",
       "      <th>DETID</th>\n",
       "      <th>SRCID</th>\n",
       "      <th>DR3SRCID</th>\n",
       "      <th>DR3DETID</th>\n",
       "      <th>DR3DETDIST</th>\n",
       "      <th>DR3SRCDIST</th>\n",
       "      <th>DR3MULT</th>\n",
       "      <th>IAUNAME</th>\n",
       "      <th>SRC_NUM</th>\n",
       "      <th>OBS_ID</th>\n",
       "      <th>...</th>\n",
       "      <th>EP_8_LUMINOSITY_MAX</th>\n",
       "      <th>IN_CP02</th>\n",
       "      <th>IN_S04</th>\n",
       "      <th>IN_LB05</th>\n",
       "      <th>IN_LM05</th>\n",
       "      <th>IN_S11</th>\n",
       "      <th>IN_W11</th>\n",
       "      <th>IS_COMPLETE_38</th>\n",
       "      <th>IS_COMPLETE_39</th>\n",
       "      <th>IS_COMPLETE_40</th>\n",
       "    </tr>\n",
       "  </thead>\n",
       "  <tbody>\n",
       "    <tr>\n",
       "      <th>622</th>\n",
       "      <td>87552</td>\n",
       "      <td>901</td>\n",
       "      <td>29246</td>\n",
       "      <td>-2147483648</td>\n",
       "      <td>NaN</td>\n",
       "      <td>0.092017</td>\n",
       "      <td>16</td>\n",
       "      <td>3XMM J031818.4-663002</td>\n",
       "      <td>5</td>\n",
       "      <td>0150280201</td>\n",
       "      <td>...</td>\n",
       "      <td>1.100506e+39</td>\n",
       "      <td>False</td>\n",
       "      <td>False</td>\n",
       "      <td>True</td>\n",
       "      <td>False</td>\n",
       "      <td>False</td>\n",
       "      <td>False</td>\n",
       "      <td>False</td>\n",
       "      <td>False</td>\n",
       "      <td>False</td>\n",
       "    </tr>\n",
       "    <tr>\n",
       "      <th>618</th>\n",
       "      <td>87537</td>\n",
       "      <td>901</td>\n",
       "      <td>29246</td>\n",
       "      <td>37100</td>\n",
       "      <td>0.739589</td>\n",
       "      <td>0.092017</td>\n",
       "      <td>16</td>\n",
       "      <td>3XMM J031818.4-663002</td>\n",
       "      <td>4</td>\n",
       "      <td>0150280501</td>\n",
       "      <td>...</td>\n",
       "      <td>1.040845e+39</td>\n",
       "      <td>False</td>\n",
       "      <td>False</td>\n",
       "      <td>True</td>\n",
       "      <td>False</td>\n",
       "      <td>False</td>\n",
       "      <td>False</td>\n",
       "      <td>False</td>\n",
       "      <td>False</td>\n",
       "      <td>False</td>\n",
       "    </tr>\n",
       "    <tr>\n",
       "      <th>623</th>\n",
       "      <td>87542</td>\n",
       "      <td>901</td>\n",
       "      <td>29246</td>\n",
       "      <td>-2147483648</td>\n",
       "      <td>NaN</td>\n",
       "      <td>0.092017</td>\n",
       "      <td>16</td>\n",
       "      <td>3XMM J031818.4-663002</td>\n",
       "      <td>4</td>\n",
       "      <td>0150280701</td>\n",
       "      <td>...</td>\n",
       "      <td>1.151833e+39</td>\n",
       "      <td>False</td>\n",
       "      <td>False</td>\n",
       "      <td>True</td>\n",
       "      <td>False</td>\n",
       "      <td>False</td>\n",
       "      <td>False</td>\n",
       "      <td>False</td>\n",
       "      <td>False</td>\n",
       "      <td>False</td>\n",
       "    </tr>\n",
       "    <tr>\n",
       "      <th>619</th>\n",
       "      <td>87538</td>\n",
       "      <td>901</td>\n",
       "      <td>29246</td>\n",
       "      <td>37101</td>\n",
       "      <td>0.642394</td>\n",
       "      <td>0.092017</td>\n",
       "      <td>16</td>\n",
       "      <td>3XMM J031818.4-663002</td>\n",
       "      <td>4</td>\n",
       "      <td>0150281101</td>\n",
       "      <td>...</td>\n",
       "      <td>1.086083e+39</td>\n",
       "      <td>False</td>\n",
       "      <td>False</td>\n",
       "      <td>True</td>\n",
       "      <td>False</td>\n",
       "      <td>False</td>\n",
       "      <td>False</td>\n",
       "      <td>False</td>\n",
       "      <td>False</td>\n",
       "      <td>False</td>\n",
       "    </tr>\n",
       "    <tr>\n",
       "      <th>610</th>\n",
       "      <td>87543</td>\n",
       "      <td>901</td>\n",
       "      <td>29246</td>\n",
       "      <td>37106</td>\n",
       "      <td>0.506371</td>\n",
       "      <td>0.092017</td>\n",
       "      <td>16</td>\n",
       "      <td>3XMM J031818.4-663002</td>\n",
       "      <td>4</td>\n",
       "      <td>0205230501</td>\n",
       "      <td>...</td>\n",
       "      <td>1.086528e+39</td>\n",
       "      <td>False</td>\n",
       "      <td>False</td>\n",
       "      <td>True</td>\n",
       "      <td>False</td>\n",
       "      <td>False</td>\n",
       "      <td>False</td>\n",
       "      <td>False</td>\n",
       "      <td>False</td>\n",
       "      <td>False</td>\n",
       "    </tr>\n",
       "  </tbody>\n",
       "</table>\n",
       "<p>5 rows × 423 columns</p>\n",
       "</div>"
      ],
      "text/plain": [
       "     DETID  SRCID  DR3SRCID    DR3DETID  DR3DETDIST  DR3SRCDIST  DR3MULT  \\\n",
       "622  87552    901     29246 -2147483648         NaN    0.092017       16   \n",
       "618  87537    901     29246       37100    0.739589    0.092017       16   \n",
       "623  87542    901     29246 -2147483648         NaN    0.092017       16   \n",
       "619  87538    901     29246       37101    0.642394    0.092017       16   \n",
       "610  87543    901     29246       37106    0.506371    0.092017       16   \n",
       "\n",
       "                   IAUNAME  SRC_NUM      OBS_ID  ... EP_8_LUMINOSITY_MAX  \\\n",
       "622  3XMM J031818.4-663002        5  0150280201  ...        1.100506e+39   \n",
       "618  3XMM J031818.4-663002        4  0150280501  ...        1.040845e+39   \n",
       "623  3XMM J031818.4-663002        4  0150280701  ...        1.151833e+39   \n",
       "619  3XMM J031818.4-663002        4  0150281101  ...        1.086083e+39   \n",
       "610  3XMM J031818.4-663002        4  0205230501  ...        1.086528e+39   \n",
       "\n",
       "     IN_CP02  IN_S04  IN_LB05 IN_LM05 IN_S11 IN_W11 IS_COMPLETE_38  \\\n",
       "622    False   False     True   False  False  False          False   \n",
       "618    False   False     True   False  False  False          False   \n",
       "623    False   False     True   False  False  False          False   \n",
       "619    False   False     True   False  False  False          False   \n",
       "610    False   False     True   False  False  False          False   \n",
       "\n",
       "    IS_COMPLETE_39 IS_COMPLETE_40  \n",
       "622          False          False  \n",
       "618          False          False  \n",
       "623          False          False  \n",
       "619          False          False  \n",
       "610          False          False  \n",
       "\n",
       "[5 rows x 423 columns]"
      ]
     },
     "execution_count": 31,
     "metadata": {},
     "output_type": "execute_result"
    }
   ],
   "source": [
    "src901 = data[data['SRCID'] == 901].sort_values(by=['MJD_START'])\n",
    "src901"
   ]
  },
  {
   "cell_type": "code",
   "execution_count": 32,
   "metadata": {},
   "outputs": [
    {
     "data": {
      "image/png": "[encoded data removed]",
      "text/plain": [
       "<Figure size 1080x216 with 1 Axes>"
      ]
     },
     "metadata": {
      "needs_background": "light"
     },
     "output_type": "display_data"
    },
    {
     "data": {
      "image/png": "[encoded data removed]",
      "text/plain": [
       "<Figure size 1080x216 with 1 Axes>"
      ]
     },
     "metadata": {
      "needs_background": "light"
     },
     "output_type": "display_data"
    },
    {
     "data": {
      "image/png": "[encoded data removed]",
      "text/plain": [
       "<Figure size 1080x216 with 1 Axes>"
      ]
     },
     "metadata": {
      "needs_background": "light"
     },
     "output_type": "display_data"
    },
    {
     "data": {
      "image/png": "[encoded data removed]",
      "text/plain": [
       "<Figure size 1080x216 with 1 Axes>"
      ]
     },
     "metadata": {
      "needs_background": "light"
     },
     "output_type": "display_data"
    },
    {
     "data": {
      "image/png": "[encoded data removed]",
      "text/plain": [
       "<Figure size 1080x216 with 1 Axes>"
      ]
     },
     "metadata": {
      "needs_background": "light"
     },
     "output_type": "display_data"
    },
    {
     "data": {
      "image/png": "[encoded data removed]",
      "text/plain": [
       "<Figure size 1080x216 with 1 Axes>"
      ]
     },
     "metadata": {
      "needs_background": "light"
     },
     "output_type": "display_data"
    },
    {
     "data": {
      "image/png": "[encoded data removed]",
      "text/plain": [
       "<Figure size 1080x216 with 1 Axes>"
      ]
     },
     "metadata": {
      "needs_background": "light"
     },
     "output_type": "display_data"
    },
    {
     "data": {
      "image/png": "[encoded data removed]",
      "text/plain": [
       "<Figure size 1080x216 with 1 Axes>"
      ]
     },
     "metadata": {
      "needs_background": "light"
     },
     "output_type": "display_data"
    },
    {
     "data": {
      "image/png": "[encoded data removed]",
      "text/plain": [
       "<Figure size 1080x216 with 1 Axes>"
      ]
     },
     "metadata": {
      "needs_background": "light"
     },
     "output_type": "display_data"
    },
    {
     "data": {
      "image/png": "[encoded data removed]",
      "text/plain": [
       "<Figure size 1080x216 with 1 Axes>"
      ]
     },
     "metadata": {
      "needs_background": "light"
     },
     "output_type": "display_data"
    },
    {
     "data": {
      "image/png": "[encoded data removed]",
      "text/plain": [
       "<Figure size 1080x216 with 1 Axes>"
      ]
     },
     "metadata": {
      "needs_background": "light"
     },
     "output_type": "display_data"
    },
    {
     "data": {
      "image/png": "[encoded data removed]",
      "text/plain": [
       "<Figure size 1080x216 with 1 Axes>"
      ]
     },
     "metadata": {
      "needs_background": "light"
     },
     "output_type": "display_data"
    },
    {
     "data": {
      "image/png": "[encoded data removed]",
      "text/plain": [
       "<Figure size 1080x216 with 1 Axes>"
      ]
     },
     "metadata": {
      "needs_background": "light"
     },
     "output_type": "display_data"
    }
   ],
   "source": [
    "number_of_transients = 0\n",
    "number_of_dead = 0\n",
    "number_of_alive = 0\n",
    "flux_limit = 1E39\n",
    "\n",
    "for source in sources.index:\n",
    "    subset = data[data['SRCID'] == source].sort_values(by=['MJD_START'])\n",
    "    if max(subset['EP_8_LUMINOSITY']) > flux_limit and min(subset['EP_8_LUMINOSITY']) < flux_limit: #TRANSIENT\n",
    "        plt.figure(figsize=(15,3))\n",
    "        plt.ylabel('Lx')\n",
    "        plt.xlabel('MJD')\n",
    "        plt.title(str(subset['SRCID'].unique()[0]) + ' : ' + subset['IAUNAME'].unique()[0] + ' : TRANSIENT')\n",
    "        plt.errorbar(subset['MJD_START'], subset['EP_8_LUMINOSITY'], yerr=subset['EP_8_LUMINOSITY_ERR'], fmt='none', capsize=1.5)\n",
    "        plt.axhline(flux_limit, c='red')\n",
    "        number_of_transients+=1\n",
    "    elif max(subset['EP_8_LUMINOSITY_MAX']) < flux_limit: #DEAD\n",
    "        number_of_dead+=1\n",
    "    elif min(subset['EP_8_LUMINOSITY'] - subset['EP_8_LUMINOSITY_ERR']) > flux_limit: #Alive\n",
    "        number_of_alive+=1"
   ]
  },
  {
   "cell_type": "code",
   "execution_count": 33,
   "metadata": {},
   "outputs": [
    {
     "name": "stdout",
     "output_type": "stream",
     "text": [
      "Doing source: 894\n",
      "Doing source: 1915\n",
      "Doing source: 2049\n",
      "Doing source: 2231\n",
      "Doing source: 4349\n",
      "Doing source: 5218\n",
      "Doing source: 6996\n",
      "Doing source: 901\n",
      "Doing source: 3129\n",
      "Doing source: 8508\n",
      "Doing source: 4170\n",
      "Doing source: 10333\n",
      "Doing source: 14633\n",
      "Doing source: 10918\n",
      "Doing source: 10328\n",
      "Doing source: 3374\n",
      "Doing source: 3437\n",
      "Doing source: 13415\n",
      "Doing source: 10388\n",
      "Doing source: 5219\n",
      "Doing source: 15989\n",
      "Doing source: 16088\n",
      "Doing source: 17098\n",
      "Doing source: 4101\n",
      "Doing source: 16342\n",
      "Doing source: 5231\n",
      "Doing source: 16021\n",
      "Doing source: 15621\n",
      "Doing source: 4934\n",
      "Doing source: 16132\n",
      "Doing source: 8408\n",
      "Doing source: 19949\n",
      "Doing source: 16647\n",
      "Doing source: 28571\n",
      "Doing source: 35311\n",
      "Doing source: 7245\n",
      "Doing source: 35286\n",
      "Doing source: 28451\n",
      "Doing source: 28943\n",
      "Doing source: 43541\n",
      "Doing source: 21337\n",
      "Doing source: 51071\n",
      "Doing source: 17151\n",
      "Doing source: 3277\n",
      "Doing source: 42210\n",
      "Doing source: 3330\n",
      "Doing source: 5412\n",
      "Doing source: 28995\n",
      "Doing source: 58403\n",
      "Doing source: 30058\n",
      "Doing source: 48298\n",
      "Doing source: 29174\n",
      "Doing source: 3875\n",
      "Doing source: 30164\n",
      "Doing source: 28355\n",
      "Doing source: 29687\n",
      "Doing source: 56162\n",
      "Doing source: 34759\n",
      "Doing source: 28544\n",
      "Doing source: 28555\n",
      "Doing source: 35211\n",
      "Doing source: 28876\n",
      "Doing source: 28744\n",
      "Doing source: 29871\n",
      "Doing source: 45684\n",
      "Doing source: 51654\n",
      "Doing source: 29901\n",
      "Doing source: 18115\n",
      "Doing source: 22268\n",
      "Doing source: 17868\n",
      "Doing source: 31024\n",
      "Doing source: 41140\n",
      "Doing source: 5256\n",
      "Doing source: 17412\n",
      "Doing source: 6155\n",
      "Doing source: 4120\n",
      "Doing source: 29739\n",
      "Doing source: 29749\n",
      "Doing source: 32833\n",
      "Doing source: 29790\n",
      "Doing source: 34447\n"
     ]
    }
   ],
   "source": [
    "# Monte carlo simulation on the obtained lightcurves to deduce\n",
    "# To what degree we can characterise a lightcurve as being\n",
    "# Alive/dead/transient\n",
    "MC_ITERATIONS = 100000\n",
    "\n",
    "results_list = []\n",
    "\n",
    "for source in sources.index:\n",
    "    results = {}\n",
    "    alive = 0\n",
    "    dead = 0\n",
    "    transient = 0\n",
    "    print(f'Doing source: {source}')\n",
    "    subset = data[data['SRCID'] == source].sort_values(by=['MJD_START'])\n",
    "    simulated_luminosities = []\n",
    "    \n",
    "    for index, row in subset.iterrows():\n",
    "        # print(f\"index: {index} ep 8 luminosity: {row['EP_8_LUMINOSITY']}, err: {row['EP_8_LUMINOSITY_ERR']}\")\n",
    "        sample = np.random.normal(loc=row['EP_8_LUMINOSITY'], scale=row['EP_8_LUMINOSITY_ERR'], size=MC_ITERATIONS)\n",
    "        simulated_luminosities.append(sample)\n",
    "    \n",
    "    for i in (np.array(simulated_luminosities).T):\n",
    "        # print(f'out of {len(i)} points:')\n",
    "        number_above = len(i[i > 1E39])\n",
    "        number_below = len(i[i < 1E39])\n",
    "        if number_below == 0:\n",
    "            #print('alive')\n",
    "            alive+=1\n",
    "        elif number_above == 0:\n",
    "            #print('dead')\n",
    "            dead+=1\n",
    "        else:\n",
    "            #print(f'transient {number_above}, {number_below}')\n",
    "            transient+=1\n",
    "            \n",
    "    results['SRCID'] = source\n",
    "    results['alive'] = alive\n",
    "    results['dead'] = dead\n",
    "    results['transient'] = transient\n",
    "    results_list.append(results)"
   ]
  },
  {
   "cell_type": "code",
   "execution_count": 34,
   "metadata": {},
   "outputs": [],
   "source": [
    "MC_results = pd.DataFrame(results_list)\n",
    "MC_results['classification'] = MC_results[['alive','dead', 'transient']].idxmax(axis=1)\n",
    "MC_results['confidence'] = MC_results[['alive','dead', 'transient']].max(axis=1)/MC_ITERATIONS\n",
    "MC_results['confidence_squared'] = MC_results['confidence']**2\n",
    "# https://faraday.physics.utoronto.ca/PVB/Harrison/ErrorAnalysis/Propagation.html"
   ]
  },
  {
   "cell_type": "code",
   "execution_count": 35,
   "metadata": {},
   "outputs": [
    {
     "data": {
      "text/html": [
       "<div>\n",
       "<style scoped>\n",
       "    .dataframe tbody tr th:only-of-type {\n",
       "        vertical-align: middle;\n",
       "    }\n",
       "\n",
       "    .dataframe tbody tr th {\n",
       "        vertical-align: top;\n",
       "    }\n",
       "\n",
       "    .dataframe thead th {\n",
       "        text-align: right;\n",
       "    }\n",
       "</style>\n",
       "<table border=\"1\" class=\"dataframe\">\n",
       "  <thead>\n",
       "    <tr style=\"text-align: right;\">\n",
       "      <th></th>\n",
       "      <th>SRCID</th>\n",
       "      <th>alive</th>\n",
       "      <th>dead</th>\n",
       "      <th>transient</th>\n",
       "      <th>classification</th>\n",
       "      <th>confidence</th>\n",
       "      <th>confidence_squared</th>\n",
       "    </tr>\n",
       "  </thead>\n",
       "  <tbody>\n",
       "    <tr>\n",
       "      <th>65</th>\n",
       "      <td>51654</td>\n",
       "      <td>44310</td>\n",
       "      <td>10199</td>\n",
       "      <td>45491</td>\n",
       "      <td>transient</td>\n",
       "      <td>0.45491</td>\n",
       "      <td>0.206943</td>\n",
       "    </tr>\n",
       "    <tr>\n",
       "      <th>60</th>\n",
       "      <td>35211</td>\n",
       "      <td>45644</td>\n",
       "      <td>8927</td>\n",
       "      <td>45429</td>\n",
       "      <td>alive</td>\n",
       "      <td>0.45644</td>\n",
       "      <td>0.208337</td>\n",
       "    </tr>\n",
       "    <tr>\n",
       "      <th>61</th>\n",
       "      <td>28876</td>\n",
       "      <td>46453</td>\n",
       "      <td>8576</td>\n",
       "      <td>44971</td>\n",
       "      <td>alive</td>\n",
       "      <td>0.46453</td>\n",
       "      <td>0.215788</td>\n",
       "    </tr>\n",
       "    <tr>\n",
       "      <th>43</th>\n",
       "      <td>3277</td>\n",
       "      <td>48748</td>\n",
       "      <td>6977</td>\n",
       "      <td>44275</td>\n",
       "      <td>alive</td>\n",
       "      <td>0.48748</td>\n",
       "      <td>0.237637</td>\n",
       "    </tr>\n",
       "    <tr>\n",
       "      <th>44</th>\n",
       "      <td>42210</td>\n",
       "      <td>44116</td>\n",
       "      <td>5962</td>\n",
       "      <td>49922</td>\n",
       "      <td>transient</td>\n",
       "      <td>0.49922</td>\n",
       "      <td>0.249221</td>\n",
       "    </tr>\n",
       "    <tr>\n",
       "      <th>...</th>\n",
       "      <td>...</td>\n",
       "      <td>...</td>\n",
       "      <td>...</td>\n",
       "      <td>...</td>\n",
       "      <td>...</td>\n",
       "      <td>...</td>\n",
       "      <td>...</td>\n",
       "    </tr>\n",
       "    <tr>\n",
       "      <th>33</th>\n",
       "      <td>28571</td>\n",
       "      <td>100000</td>\n",
       "      <td>0</td>\n",
       "      <td>0</td>\n",
       "      <td>alive</td>\n",
       "      <td>1.00000</td>\n",
       "      <td>1.000000</td>\n",
       "    </tr>\n",
       "    <tr>\n",
       "      <th>47</th>\n",
       "      <td>28995</td>\n",
       "      <td>100000</td>\n",
       "      <td>0</td>\n",
       "      <td>0</td>\n",
       "      <td>alive</td>\n",
       "      <td>1.00000</td>\n",
       "      <td>1.000000</td>\n",
       "    </tr>\n",
       "    <tr>\n",
       "      <th>37</th>\n",
       "      <td>28451</td>\n",
       "      <td>100000</td>\n",
       "      <td>0</td>\n",
       "      <td>0</td>\n",
       "      <td>alive</td>\n",
       "      <td>1.00000</td>\n",
       "      <td>1.000000</td>\n",
       "    </tr>\n",
       "    <tr>\n",
       "      <th>14</th>\n",
       "      <td>10328</td>\n",
       "      <td>100000</td>\n",
       "      <td>0</td>\n",
       "      <td>0</td>\n",
       "      <td>alive</td>\n",
       "      <td>1.00000</td>\n",
       "      <td>1.000000</td>\n",
       "    </tr>\n",
       "    <tr>\n",
       "      <th>0</th>\n",
       "      <td>894</td>\n",
       "      <td>100000</td>\n",
       "      <td>0</td>\n",
       "      <td>0</td>\n",
       "      <td>alive</td>\n",
       "      <td>1.00000</td>\n",
       "      <td>1.000000</td>\n",
       "    </tr>\n",
       "  </tbody>\n",
       "</table>\n",
       "<p>81 rows × 7 columns</p>\n",
       "</div>"
      ],
      "text/plain": [
       "    SRCID   alive   dead  transient classification  confidence  \\\n",
       "65  51654   44310  10199      45491      transient     0.45491   \n",
       "60  35211   45644   8927      45429          alive     0.45644   \n",
       "61  28876   46453   8576      44971          alive     0.46453   \n",
       "43   3277   48748   6977      44275          alive     0.48748   \n",
       "44  42210   44116   5962      49922      transient     0.49922   \n",
       "..    ...     ...    ...        ...            ...         ...   \n",
       "33  28571  100000      0          0          alive     1.00000   \n",
       "47  28995  100000      0          0          alive     1.00000   \n",
       "37  28451  100000      0          0          alive     1.00000   \n",
       "14  10328  100000      0          0          alive     1.00000   \n",
       "0     894  100000      0          0          alive     1.00000   \n",
       "\n",
       "    confidence_squared  \n",
       "65            0.206943  \n",
       "60            0.208337  \n",
       "61            0.215788  \n",
       "43            0.237637  \n",
       "44            0.249221  \n",
       "..                 ...  \n",
       "33            1.000000  \n",
       "47            1.000000  \n",
       "37            1.000000  \n",
       "14            1.000000  \n",
       "0             1.000000  \n",
       "\n",
       "[81 rows x 7 columns]"
      ]
     },
     "execution_count": 35,
     "metadata": {},
     "output_type": "execute_result"
    }
   ],
   "source": [
    "MC_results.sort_values(by='confidence')"
   ]
  },
  {
   "cell_type": "code",
   "execution_count": 36,
   "metadata": {},
   "outputs": [],
   "source": [
    "number_of_alive = len(MC_results[MC_results['classification'] == 'alive'])\n",
    "number_of_alive_err = np.sqrt(MC_results[MC_results['classification'] == 'alive']['confidence_squared'].sum())\n",
    "number_of_transients = len(MC_results[MC_results['classification'] == 'transient'])\n",
    "number_of_transients_err = np.sqrt(MC_results[MC_results['classification'] == 'transient']['confidence_squared'].sum())\n",
    "number_of_dead = len(MC_results[MC_results['classification'] == 'dead'])\n",
    "number_of_dead_err = np.sqrt(MC_results[MC_results['classification'] == 'dead']['confidence_squared'].sum())\n",
    "\n",
    "\n",
    "#The total number here is defined only for the alive and transient systems\n",
    "number_total = number_of_alive + number_of_transients\n",
    "number_total_err = np.sqrt(number_of_alive_err**2 + number_of_transients_err**2)\n",
    "\n",
    "percent_of_alive = number_of_alive / (number_total)\n",
    "percent_of_transients = number_of_transients / (number_total)\n",
    "percent_of_alive_err = percent_of_alive * np.sqrt((number_total_err/number_total)**2 +  (number_of_alive_err/number_of_alive)**2)\n",
    "percent_of_transients_err = percent_of_transients * np.sqrt((number_total_err/number_total)**2 +  (number_of_transients_err/number_of_transients)**2)"
   ]
  },
  {
   "cell_type": "code",
   "execution_count": 37,
   "metadata": {},
   "outputs": [
    {
     "name": "stdout",
     "output_type": "stream",
     "text": [
      "Number of alive systems: 67 +- 7.452910803632364\n",
      "Number of transient systems: 14 +- 2.706010895876068\n",
      "Number of dead systems: 0 +- 0.0\n",
      "% of alive systems: 0.8271604938271605 +- 0.12256472421344072\n",
      "% of transient systems: 0.1728395061728395 +- 0.03744750536124969\n"
     ]
    }
   ],
   "source": [
    "print(f'Number of alive systems: {number_of_alive} +- {number_of_alive_err}')\n",
    "print(f'Number of transient systems: {number_of_transients} +- {number_of_transients_err}')\n",
    "print(f'Number of dead systems: {number_of_dead} +- {number_of_dead_err}')\n",
    "print(f'% of alive systems: {percent_of_alive} +- {percent_of_alive_err}')\n",
    "print(f'% of transient systems: {percent_of_transients} +- {percent_of_transients_err}')"
   ]
  },
  {
   "cell_type": "code",
   "execution_count": 38,
   "metadata": {},
   "outputs": [
    {
     "data": {
      "text/plain": [
       "<matplotlib.axes._subplots.AxesSubplot at 0x7f01eb206ba8>"
      ]
     },
     "execution_count": 38,
     "metadata": {},
     "output_type": "execute_result"
    },
    {
     "data": {
      "image/png": "[encoded data removed]",
      "text/plain": [
       "<Figure size 432x288 with 1 Axes>"
      ]
     },
     "metadata": {},
     "output_type": "display_data"
    }
   ],
   "source": [
    "MC_results['classification'].value_counts().plot(kind='pie', autopct='%1.1f%%')"
   ]
  },
  {
   "cell_type": "code",
   "execution_count": 39,
   "metadata": {},
   "outputs": [
    {
     "data": {
      "text/plain": [
       "<matplotlib.axes._subplots.AxesSubplot at 0x7f01eb3bfd30>"
      ]
     },
     "execution_count": 39,
     "metadata": {},
     "output_type": "execute_result"
    },
    {
     "data": {
      "image/png": "[encoded data removed]",
      "text/plain": [
       "<Figure size 432x288 with 1 Axes>"
      ]
     },
     "metadata": {},
     "output_type": "display_data"
    }
   ],
   "source": [
    "MC_results = MC_results[MC_results['classification'].isin(['transient', 'alive'])]\n",
    "MC_results['classification'].value_counts().plot(kind='pie', autopct='%1.1f%%')"
   ]
  },
  {
   "cell_type": "markdown",
   "metadata": {},
   "source": [
    "# Non - MC classification"
   ]
  },
  {
   "cell_type": "code",
   "execution_count": 40,
   "metadata": {},
   "outputs": [
    {
     "name": "stdout",
     "output_type": "stream",
     "text": [
      "Objects in Earnshaw cat: 384\n",
      "Objects with more than 1 observation: 81\n",
      "Number of Transient ULXs: 14\n",
      "Number of alive ULXs: 67\n",
      "Number of dead ULXs: 0\n"
     ]
    }
   ],
   "source": [
    "print(f'Objects in Earnshaw cat: {len(data[\"SRCID\"].unique())}')\n",
    "print(f'Objects with more than 1 observation: {len(sources)}')\n",
    "print(f'Number of Transient ULXs: {number_of_transients}')\n",
    "print(f'Number of alive ULXs: {number_of_alive}')\n",
    "print(f'Number of dead ULXs: {number_of_dead}')"
   ]
  },
  {
   "cell_type": "code",
   "execution_count": 41,
   "metadata": {},
   "outputs": [
    {
     "data": {
      "text/plain": [
       "([<matplotlib.patches.Wedge at 0x7f01eb23da58>,\n",
       "  <matplotlib.patches.Wedge at 0x7f01eb23f240>,\n",
       "  <matplotlib.patches.Wedge at 0x7f01eb23f940>],\n",
       " [Text(-0.9417835605766091, 0.5683693561652007, 'alive'),\n",
       "  Text(0.9417835339693184, -0.5683694002532701, 'transient'),\n",
       "  Text(1.0999999999999954, -1.0298943298478347e-07, 'dead')],\n",
       " [Text(-0.5137001239508776, 0.31001964881738214, '82.7%'),\n",
       "  Text(0.51370010943781, -0.31001967286542, '17.3%'),\n",
       "  Text(0.5999999999999974, -5.617605435533643e-08, '0.0%')])"
      ]
     },
     "execution_count": 41,
     "metadata": {},
     "output_type": "execute_result"
    },
    {
     "data": {
      "image/png": "[encoded data removed]",
      "text/plain": [
       "<Figure size 432x288 with 1 Axes>"
      ]
     },
     "metadata": {},
     "output_type": "display_data"
    }
   ],
   "source": [
    "plt.pie([number_of_alive, number_of_transients, number_of_dead], labels=['alive', 'transient', 'dead',], autopct='%1.1f%%')"
   ]
  },
  {
   "cell_type": "code",
   "execution_count": 42,
   "metadata": {},
   "outputs": [
    {
     "data": {
      "text/plain": [
       "([<matplotlib.patches.Wedge at 0x7f01eb277fd0>,\n",
       "  <matplotlib.patches.Wedge at 0x7f01eb6377f0>],\n",
       " [Text(-0.9417835605766091, 0.5683693561652007, 'alive'),\n",
       "  Text(0.9417835339693184, -0.5683694002532701, 'transient')],\n",
       " [Text(-0.5137001239508776, 0.31001964881738214, '82.7%'),\n",
       "  Text(0.51370010943781, -0.31001967286542, '17.3%')])"
      ]
     },
     "execution_count": 42,
     "metadata": {},
     "output_type": "execute_result"
    },
    {
     "data": {
      "image/png": "[encoded data removed]",
      "text/plain": [
       "<Figure size 432x288 with 1 Axes>"
      ]
     },
     "metadata": {},
     "output_type": "display_data"
    }
   ],
   "source": [
    "plt.pie([number_of_alive, number_of_transients], labels=['alive', 'transient'], autopct='%1.1f%%')"
   ]
  },
  {
   "cell_type": "code",
   "execution_count": null,
   "metadata": {},
   "outputs": [],
   "source": []
  }
 ],
 "metadata": {
  "kernelspec": {
   "display_name": "Python 3",
   "language": "python",
   "name": "python3"
  },
  "language_info": {
   "codemirror_mode": {
    "name": "ipython",
    "version": 3
   },
   "file_extension": ".py",
   "mimetype": "text/x-python",
   "name": "python",
   "nbconvert_exporter": "python",
   "pygments_lexer": "ipython3",
   "version": "3.6.9"
  }
 },
 "nbformat": 4,
 "nbformat_minor": 4
}
