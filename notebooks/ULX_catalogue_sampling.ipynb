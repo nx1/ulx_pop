{
 "cells": [
  {
   "cell_type": "code",
   "execution_count": 2,
   "metadata": {},
   "outputs": [],
   "source": [
    "import numpy as np\n",
    "import matplotlib.pyplot as plt\n",
    "import pandas as pd\n",
    "\n",
    "from astropy.io import fits\n",
    "from tqdm import tqdm"
   ]
  },
  {
   "cell_type": "code",
   "execution_count": 3,
   "metadata": {},
   "outputs": [],
   "source": [
    "# Load data\n",
    "def df_earnshaw():\n",
    "    ulx_file = '../data/external/Earnshaw_ULX_cat/earnshaw_Xraycatalogue.fits'\n",
    "    with fits.open(ulx_file) as hdul:\n",
    "        #hdul.info()\n",
    "        data = pd.DataFrame(hdul[1].data)\n",
    "    return data"
   ]
  },
  {
   "cell_type": "markdown",
   "metadata": {},
   "source": [
    "# Earnshaw (2018) Catalogue"
   ]
  },
  {
   "cell_type": "code",
   "execution_count": 4,
   "metadata": {},
   "outputs": [
    {
     "data": {
      "text/html": [
       "<div>\n",
       "<style scoped>\n",
       "    .dataframe tbody tr th:only-of-type {\n",
       "        vertical-align: middle;\n",
       "    }\n",
       "\n",
       "    .dataframe tbody tr th {\n",
       "        vertical-align: top;\n",
       "    }\n",
       "\n",
       "    .dataframe thead th {\n",
       "        text-align: right;\n",
       "    }\n",
       "</style>\n",
       "<table border=\"1\" class=\"dataframe\">\n",
       "  <thead>\n",
       "    <tr style=\"text-align: right;\">\n",
       "      <th></th>\n",
       "      <th>DETID</th>\n",
       "      <th>SRCID</th>\n",
       "      <th>DR3SRCID</th>\n",
       "      <th>DR3DETID</th>\n",
       "      <th>DR3DETDIST</th>\n",
       "      <th>DR3SRCDIST</th>\n",
       "      <th>DR3MULT</th>\n",
       "      <th>IAUNAME</th>\n",
       "      <th>SRC_NUM</th>\n",
       "      <th>OBS_ID</th>\n",
       "      <th>...</th>\n",
       "      <th>EP_8_LUMINOSITY_MAX</th>\n",
       "      <th>IN_CP02</th>\n",
       "      <th>IN_S04</th>\n",
       "      <th>IN_LB05</th>\n",
       "      <th>IN_LM05</th>\n",
       "      <th>IN_S11</th>\n",
       "      <th>IN_W11</th>\n",
       "      <th>IS_COMPLETE_38</th>\n",
       "      <th>IS_COMPLETE_39</th>\n",
       "      <th>IS_COMPLETE_40</th>\n",
       "    </tr>\n",
       "  </thead>\n",
       "  <tbody>\n",
       "    <tr>\n",
       "      <th>0</th>\n",
       "      <td>382</td>\n",
       "      <td>118684</td>\n",
       "      <td>156</td>\n",
       "      <td>156</td>\n",
       "      <td>3.412370</td>\n",
       "      <td>3.412370</td>\n",
       "      <td>1</td>\n",
       "      <td>3XMM J000155.3-152551</td>\n",
       "      <td>26</td>\n",
       "      <td>0204790101</td>\n",
       "      <td>...</td>\n",
       "      <td>3.706074e+36</td>\n",
       "      <td>False</td>\n",
       "      <td>False</td>\n",
       "      <td>False</td>\n",
       "      <td>False</td>\n",
       "      <td>False</td>\n",
       "      <td>False</td>\n",
       "      <td>True</td>\n",
       "      <td>True</td>\n",
       "      <td>True</td>\n",
       "    </tr>\n",
       "    <tr>\n",
       "      <th>1</th>\n",
       "      <td>396</td>\n",
       "      <td>118656</td>\n",
       "      <td>163</td>\n",
       "      <td>163</td>\n",
       "      <td>1.785300</td>\n",
       "      <td>1.785300</td>\n",
       "      <td>1</td>\n",
       "      <td>3XMM J000158.1-152758</td>\n",
       "      <td>3</td>\n",
       "      <td>0204790101</td>\n",
       "      <td>...</td>\n",
       "      <td>9.236017e+36</td>\n",
       "      <td>False</td>\n",
       "      <td>False</td>\n",
       "      <td>False</td>\n",
       "      <td>False</td>\n",
       "      <td>False</td>\n",
       "      <td>False</td>\n",
       "      <td>True</td>\n",
       "      <td>True</td>\n",
       "      <td>True</td>\n",
       "    </tr>\n",
       "    <tr>\n",
       "      <th>2</th>\n",
       "      <td>410</td>\n",
       "      <td>118560</td>\n",
       "      <td>170</td>\n",
       "      <td>170</td>\n",
       "      <td>0.752346</td>\n",
       "      <td>0.752346</td>\n",
       "      <td>1</td>\n",
       "      <td>3XMM J000201.4-153034</td>\n",
       "      <td>8</td>\n",
       "      <td>0204790101</td>\n",
       "      <td>...</td>\n",
       "      <td>6.361064e+36</td>\n",
       "      <td>False</td>\n",
       "      <td>False</td>\n",
       "      <td>False</td>\n",
       "      <td>False</td>\n",
       "      <td>False</td>\n",
       "      <td>False</td>\n",
       "      <td>True</td>\n",
       "      <td>True</td>\n",
       "      <td>True</td>\n",
       "    </tr>\n",
       "    <tr>\n",
       "      <th>3</th>\n",
       "      <td>430</td>\n",
       "      <td>118540</td>\n",
       "      <td>178</td>\n",
       "      <td>178</td>\n",
       "      <td>2.738700</td>\n",
       "      <td>2.738700</td>\n",
       "      <td>1</td>\n",
       "      <td>3XMM J000205.0-152504</td>\n",
       "      <td>9</td>\n",
       "      <td>0204790101</td>\n",
       "      <td>...</td>\n",
       "      <td>6.028317e+36</td>\n",
       "      <td>False</td>\n",
       "      <td>False</td>\n",
       "      <td>False</td>\n",
       "      <td>False</td>\n",
       "      <td>False</td>\n",
       "      <td>False</td>\n",
       "      <td>True</td>\n",
       "      <td>True</td>\n",
       "      <td>True</td>\n",
       "    </tr>\n",
       "    <tr>\n",
       "      <th>4</th>\n",
       "      <td>5169</td>\n",
       "      <td>122027</td>\n",
       "      <td>2335</td>\n",
       "      <td>2497</td>\n",
       "      <td>1.099720</td>\n",
       "      <td>1.099720</td>\n",
       "      <td>1</td>\n",
       "      <td>3XMM J002012.0+591756</td>\n",
       "      <td>79</td>\n",
       "      <td>0152260101</td>\n",
       "      <td>...</td>\n",
       "      <td>7.193321e+35</td>\n",
       "      <td>False</td>\n",
       "      <td>False</td>\n",
       "      <td>False</td>\n",
       "      <td>False</td>\n",
       "      <td>False</td>\n",
       "      <td>False</td>\n",
       "      <td>False</td>\n",
       "      <td>False</td>\n",
       "      <td>False</td>\n",
       "    </tr>\n",
       "    <tr>\n",
       "      <th>...</th>\n",
       "      <td>...</td>\n",
       "      <td>...</td>\n",
       "      <td>...</td>\n",
       "      <td>...</td>\n",
       "      <td>...</td>\n",
       "      <td>...</td>\n",
       "      <td>...</td>\n",
       "      <td>...</td>\n",
       "      <td>...</td>\n",
       "      <td>...</td>\n",
       "      <td>...</td>\n",
       "      <td>...</td>\n",
       "      <td>...</td>\n",
       "      <td>...</td>\n",
       "      <td>...</td>\n",
       "      <td>...</td>\n",
       "      <td>...</td>\n",
       "      <td>...</td>\n",
       "      <td>...</td>\n",
       "      <td>...</td>\n",
       "      <td>...</td>\n",
       "    </tr>\n",
       "    <tr>\n",
       "      <th>2134</th>\n",
       "      <td>525383</td>\n",
       "      <td>43541</td>\n",
       "      <td>189988</td>\n",
       "      <td>-2147483648</td>\n",
       "      <td>NaN</td>\n",
       "      <td>2.288190</td>\n",
       "      <td>2</td>\n",
       "      <td>3XMM J233843.6-562849</td>\n",
       "      <td>25</td>\n",
       "      <td>0677770133</td>\n",
       "      <td>...</td>\n",
       "      <td>1.031139e+41</td>\n",
       "      <td>False</td>\n",
       "      <td>False</td>\n",
       "      <td>False</td>\n",
       "      <td>False</td>\n",
       "      <td>False</td>\n",
       "      <td>True</td>\n",
       "      <td>False</td>\n",
       "      <td>False</td>\n",
       "      <td>False</td>\n",
       "    </tr>\n",
       "    <tr>\n",
       "      <th>2135</th>\n",
       "      <td>525632</td>\n",
       "      <td>236202</td>\n",
       "      <td>190090</td>\n",
       "      <td>245060</td>\n",
       "      <td>1.201990</td>\n",
       "      <td>1.201990</td>\n",
       "      <td>1</td>\n",
       "      <td>3XMM J234000.7-121708</td>\n",
       "      <td>18</td>\n",
       "      <td>0055990301</td>\n",
       "      <td>...</td>\n",
       "      <td>1.107447e+39</td>\n",
       "      <td>False</td>\n",
       "      <td>False</td>\n",
       "      <td>False</td>\n",
       "      <td>False</td>\n",
       "      <td>False</td>\n",
       "      <td>True</td>\n",
       "      <td>False</td>\n",
       "      <td>False</td>\n",
       "      <td>False</td>\n",
       "    </tr>\n",
       "    <tr>\n",
       "      <th>2136</th>\n",
       "      <td>527019</td>\n",
       "      <td>241323</td>\n",
       "      <td>-2147483648</td>\n",
       "      <td>-2147483648</td>\n",
       "      <td>NaN</td>\n",
       "      <td>NaN</td>\n",
       "      <td>-32768</td>\n",
       "      <td>3XMM J234420.0+095548</td>\n",
       "      <td>24</td>\n",
       "      <td>0301651001</td>\n",
       "      <td>...</td>\n",
       "      <td>4.331900e+39</td>\n",
       "      <td>False</td>\n",
       "      <td>False</td>\n",
       "      <td>False</td>\n",
       "      <td>False</td>\n",
       "      <td>False</td>\n",
       "      <td>False</td>\n",
       "      <td>False</td>\n",
       "      <td>True</td>\n",
       "      <td>True</td>\n",
       "    </tr>\n",
       "    <tr>\n",
       "      <th>2137</th>\n",
       "      <td>529799</td>\n",
       "      <td>239871</td>\n",
       "      <td>191027</td>\n",
       "      <td>246016</td>\n",
       "      <td>0.586219</td>\n",
       "      <td>0.586219</td>\n",
       "      <td>1</td>\n",
       "      <td>3XMM J235122.5+200638</td>\n",
       "      <td>9</td>\n",
       "      <td>0093190301</td>\n",
       "      <td>...</td>\n",
       "      <td>1.188354e+40</td>\n",
       "      <td>False</td>\n",
       "      <td>False</td>\n",
       "      <td>False</td>\n",
       "      <td>False</td>\n",
       "      <td>False</td>\n",
       "      <td>True</td>\n",
       "      <td>False</td>\n",
       "      <td>False</td>\n",
       "      <td>True</td>\n",
       "    </tr>\n",
       "    <tr>\n",
       "      <th>2138</th>\n",
       "      <td>529821</td>\n",
       "      <td>239945</td>\n",
       "      <td>191045</td>\n",
       "      <td>246034</td>\n",
       "      <td>1.611630</td>\n",
       "      <td>1.611630</td>\n",
       "      <td>1</td>\n",
       "      <td>3XMM J235127.4+200651</td>\n",
       "      <td>11</td>\n",
       "      <td>0093190301</td>\n",
       "      <td>...</td>\n",
       "      <td>9.848713e+39</td>\n",
       "      <td>False</td>\n",
       "      <td>False</td>\n",
       "      <td>False</td>\n",
       "      <td>False</td>\n",
       "      <td>False</td>\n",
       "      <td>True</td>\n",
       "      <td>False</td>\n",
       "      <td>False</td>\n",
       "      <td>True</td>\n",
       "    </tr>\n",
       "  </tbody>\n",
       "</table>\n",
       "<p>2139 rows × 423 columns</p>\n",
       "</div>"
      ],
      "text/plain": [
       "       DETID   SRCID    DR3SRCID    DR3DETID  DR3DETDIST  DR3SRCDIST  DR3MULT  \\\n",
       "0        382  118684         156         156    3.412370    3.412370        1   \n",
       "1        396  118656         163         163    1.785300    1.785300        1   \n",
       "2        410  118560         170         170    0.752346    0.752346        1   \n",
       "3        430  118540         178         178    2.738700    2.738700        1   \n",
       "4       5169  122027        2335        2497    1.099720    1.099720        1   \n",
       "...      ...     ...         ...         ...         ...         ...      ...   \n",
       "2134  525383   43541      189988 -2147483648         NaN    2.288190        2   \n",
       "2135  525632  236202      190090      245060    1.201990    1.201990        1   \n",
       "2136  527019  241323 -2147483648 -2147483648         NaN         NaN   -32768   \n",
       "2137  529799  239871      191027      246016    0.586219    0.586219        1   \n",
       "2138  529821  239945      191045      246034    1.611630    1.611630        1   \n",
       "\n",
       "                    IAUNAME  SRC_NUM      OBS_ID  ... EP_8_LUMINOSITY_MAX  \\\n",
       "0     3XMM J000155.3-152551       26  0204790101  ...        3.706074e+36   \n",
       "1     3XMM J000158.1-152758        3  0204790101  ...        9.236017e+36   \n",
       "2     3XMM J000201.4-153034        8  0204790101  ...        6.361064e+36   \n",
       "3     3XMM J000205.0-152504        9  0204790101  ...        6.028317e+36   \n",
       "4     3XMM J002012.0+591756       79  0152260101  ...        7.193321e+35   \n",
       "...                     ...      ...         ...  ...                 ...   \n",
       "2134  3XMM J233843.6-562849       25  0677770133  ...        1.031139e+41   \n",
       "2135  3XMM J234000.7-121708       18  0055990301  ...        1.107447e+39   \n",
       "2136  3XMM J234420.0+095548       24  0301651001  ...        4.331900e+39   \n",
       "2137  3XMM J235122.5+200638        9  0093190301  ...        1.188354e+40   \n",
       "2138  3XMM J235127.4+200651       11  0093190301  ...        9.848713e+39   \n",
       "\n",
       "      IN_CP02  IN_S04  IN_LB05 IN_LM05 IN_S11 IN_W11 IS_COMPLETE_38  \\\n",
       "0       False   False    False   False  False  False           True   \n",
       "1       False   False    False   False  False  False           True   \n",
       "2       False   False    False   False  False  False           True   \n",
       "3       False   False    False   False  False  False           True   \n",
       "4       False   False    False   False  False  False          False   \n",
       "...       ...     ...      ...     ...    ...    ...            ...   \n",
       "2134    False   False    False   False  False   True          False   \n",
       "2135    False   False    False   False  False   True          False   \n",
       "2136    False   False    False   False  False  False          False   \n",
       "2137    False   False    False   False  False   True          False   \n",
       "2138    False   False    False   False  False   True          False   \n",
       "\n",
       "     IS_COMPLETE_39 IS_COMPLETE_40  \n",
       "0              True           True  \n",
       "1              True           True  \n",
       "2              True           True  \n",
       "3              True           True  \n",
       "4             False          False  \n",
       "...             ...            ...  \n",
       "2134          False          False  \n",
       "2135          False          False  \n",
       "2136           True           True  \n",
       "2137          False           True  \n",
       "2138          False           True  \n",
       "\n",
       "[2139 rows x 423 columns]"
      ]
     },
     "execution_count": 4,
     "metadata": {},
     "output_type": "execute_result"
    }
   ],
   "source": [
    "df_earnshaw()"
   ]
  },
  {
   "cell_type": "code",
   "execution_count": 5,
   "metadata": {},
   "outputs": [
    {
     "name": "stdout",
     "output_type": "stream",
     "text": [
      "number of sources in catalogue = 1314\n",
      "number of ULX (EP_8_LUMINOSITY_MAX>1E39) sources = 384\n"
     ]
    }
   ],
   "source": [
    "data = df_earnshaw()\n",
    "\n",
    "# Filter to only include ULXs\n",
    "print(f'number of sources in catalogue = {len(data[\"SRCID\"].value_counts())}')\n",
    "data = data[data['EP_8_LUMINOSITY_MAX'] >1E39]\n",
    "print(f'number of ULX (EP_8_LUMINOSITY_MAX>1E39) sources = {len(data[\"SRCID\"].value_counts())}')"
   ]
  },
  {
   "cell_type": "code",
   "execution_count": 6,
   "metadata": {},
   "outputs": [
    {
     "name": "stdout",
     "output_type": "stream",
     "text": [
      "number of ULXs with more than 1 observation = 81\n"
     ]
    }
   ],
   "source": [
    "#Sources with more than 1 obervation\n",
    "sources = data['SRCID'].value_counts()[data['SRCID'].value_counts() > 1].sort_values(ascending=False)\n",
    "print(f'number of ULXs with more than 1 observation = {len(sources)}')"
   ]
  },
  {
   "cell_type": "code",
   "execution_count": 7,
   "metadata": {},
   "outputs": [
    {
     "data": {
      "text/html": [
       "<div>\n",
       "<style scoped>\n",
       "    .dataframe tbody tr th:only-of-type {\n",
       "        vertical-align: middle;\n",
       "    }\n",
       "\n",
       "    .dataframe tbody tr th {\n",
       "        vertical-align: top;\n",
       "    }\n",
       "\n",
       "    .dataframe thead th {\n",
       "        text-align: right;\n",
       "    }\n",
       "</style>\n",
       "<table border=\"1\" class=\"dataframe\">\n",
       "  <thead>\n",
       "    <tr style=\"text-align: right;\">\n",
       "      <th></th>\n",
       "      <th>SRCID</th>\n",
       "      <th>IAUNAME</th>\n",
       "      <th>DISTANCE_BEST</th>\n",
       "      <th>EP_8_FLUX</th>\n",
       "      <th>EP_8_FLUX_ERR</th>\n",
       "      <th>EP_8_LUMINOSITY</th>\n",
       "      <th>EP_8_LUMINOSITY_ERR</th>\n",
       "      <th>EP_8_LUMINOSITY_MAX</th>\n",
       "    </tr>\n",
       "  </thead>\n",
       "  <tbody>\n",
       "    <tr>\n",
       "      <th>622</th>\n",
       "      <td>901</td>\n",
       "      <td>3XMM J031818.4-663002</td>\n",
       "      <td>4.61</td>\n",
       "      <td>2.612020e-13</td>\n",
       "      <td>1.715000e-13</td>\n",
       "      <td>6.643242e+38</td>\n",
       "      <td>4.361820e+38</td>\n",
       "      <td>1.100506e+39</td>\n",
       "    </tr>\n",
       "    <tr>\n",
       "      <th>618</th>\n",
       "      <td>901</td>\n",
       "      <td>3XMM J031818.4-663002</td>\n",
       "      <td>4.61</td>\n",
       "      <td>3.732680e-13</td>\n",
       "      <td>3.597600e-14</td>\n",
       "      <td>9.493456e+38</td>\n",
       "      <td>9.149902e+37</td>\n",
       "      <td>1.040845e+39</td>\n",
       "    </tr>\n",
       "    <tr>\n",
       "      <th>623</th>\n",
       "      <td>901</td>\n",
       "      <td>3XMM J031818.4-663002</td>\n",
       "      <td>4.61</td>\n",
       "      <td>3.476750e-13</td>\n",
       "      <td>1.052080e-13</td>\n",
       "      <td>8.842540e+38</td>\n",
       "      <td>2.675792e+38</td>\n",
       "      <td>1.151833e+39</td>\n",
       "    </tr>\n",
       "    <tr>\n",
       "      <th>619</th>\n",
       "      <td>901</td>\n",
       "      <td>3XMM J031818.4-663002</td>\n",
       "      <td>4.61</td>\n",
       "      <td>3.819240e-13</td>\n",
       "      <td>4.510720e-14</td>\n",
       "      <td>9.713607e+38</td>\n",
       "      <td>1.147227e+38</td>\n",
       "      <td>1.086083e+39</td>\n",
       "    </tr>\n",
       "    <tr>\n",
       "      <th>610</th>\n",
       "      <td>901</td>\n",
       "      <td>3XMM J031818.4-663002</td>\n",
       "      <td>4.61</td>\n",
       "      <td>4.011020e-13</td>\n",
       "      <td>2.610380e-14</td>\n",
       "      <td>1.020137e+39</td>\n",
       "      <td>6.639071e+37</td>\n",
       "      <td>1.086528e+39</td>\n",
       "    </tr>\n",
       "  </tbody>\n",
       "</table>\n",
       "</div>"
      ],
      "text/plain": [
       "     SRCID                IAUNAME  DISTANCE_BEST     EP_8_FLUX  EP_8_FLUX_ERR  \\\n",
       "622    901  3XMM J031818.4-663002           4.61  2.612020e-13   1.715000e-13   \n",
       "618    901  3XMM J031818.4-663002           4.61  3.732680e-13   3.597600e-14   \n",
       "623    901  3XMM J031818.4-663002           4.61  3.476750e-13   1.052080e-13   \n",
       "619    901  3XMM J031818.4-663002           4.61  3.819240e-13   4.510720e-14   \n",
       "610    901  3XMM J031818.4-663002           4.61  4.011020e-13   2.610380e-14   \n",
       "\n",
       "     EP_8_LUMINOSITY  EP_8_LUMINOSITY_ERR  EP_8_LUMINOSITY_MAX  \n",
       "622     6.643242e+38         4.361820e+38         1.100506e+39  \n",
       "618     9.493456e+38         9.149902e+37         1.040845e+39  \n",
       "623     8.842540e+38         2.675792e+38         1.151833e+39  \n",
       "619     9.713607e+38         1.147227e+38         1.086083e+39  \n",
       "610     1.020137e+39         6.639071e+37         1.086528e+39  "
      ]
     },
     "execution_count": 7,
     "metadata": {},
     "output_type": "execute_result"
    }
   ],
   "source": [
    "# Looking at a specific source\n",
    "src901 = data[data['SRCID'] == 901].sort_values(by=['MJD_START'])\n",
    "src901[['SRCID','IAUNAME', 'DISTANCE_BEST', 'EP_8_FLUX', 'EP_8_FLUX_ERR', 'EP_8_LUMINOSITY', 'EP_8_LUMINOSITY_ERR', 'EP_8_LUMINOSITY_MAX']]"
   ]
  },
  {
   "cell_type": "markdown",
   "metadata": {},
   "source": [
    "# Transient Sources in Earnshaw 2018\n",
    "## Our Sampling\n",
    "- Total Sources = 1314\n",
    "- ULX Sources = 386/1314 (29.3%)\n",
    "- ULX + multiple_obs = 81/1314 (6.16%) or 81/386 (20.9%)\n",
    "- ULX with multiple obs classification:\n",
    "- $N_{A}$ =  53 / 81 (65.4%)\n",
    "- $N_{T}$ =  28 / 81 (34.5%)\n",
    "- $N_{D}$ =  0  / 81 (0%)\n",
    "- Luminosityies for each of the 81 sources were sampled assuming *normal* errors $10^6$ times to obtain confidence intervals on the number of classifications.\n",
    "- $N_{A}$ = 66 +- 7.44, $N_{T}$ = 15 +- 2.74 $N_{D}$= 0 +- 0.00\n",
    "- $\\%_{A}$ = 0.81 +- 0.12 % $\\%_{T}$ 0.19 +- 0.04\n",
    "\n",
    "\n",
    "## External Literature\n",
    "### Song  (2019) | The Hunt for Pulsating Ultraluminous X-ray Sources | https://ui.adsabs.harvard.edu/abs/2020MNRAS.491.1260S/abstract\n",
    "- Identified sources that exhibit long-term flux variability of at least an order of magnitude\n",
    "- Used Swift Chandra and XMM to create long-term lightcurves for a sample of 296 ULXs from the XMM-Newton archive\n",
    "- 25/296 (8.4%) Show a flux variability larger than a factor of 10\n",
    "- 17/296 (5.7%) show evidence for a bi-modal flux distributions (as expected from sources undergoing propeller transitions)\n",
    "- 3/296  (1.0%) show fluxes similar to NGC 5907 ULX-1, the faintest known PULX\n",
    "- the 25 highly variable sources provided in their catalogue often show either log-normal or bi-model flux distributions (See lightcurve figures in paper)"
   ]
  },
  {
   "cell_type": "code",
   "execution_count": 8,
   "metadata": {},
   "outputs": [
    {
     "name": "stdout",
     "output_type": "stream",
     "text": [
      "number of sources with more than one observation: 81\n",
      "alive =  53 / 81\n",
      "transient =  28 / 81\n",
      "dead =  0 / 81\n"
     ]
    }
   ],
   "source": [
    "number_of_transients = 0\n",
    "number_of_dead = 0\n",
    "number_of_alive = 0\n",
    "flux_limit = 1E39\n",
    "\n",
    "plot_transients = False\n",
    "\n",
    "for source in sources.index:\n",
    "    subset = data[data['SRCID'] == source].sort_values(by=['MJD_START'])\n",
    "    if max(subset['EP_8_LUMINOSITY']+subset['EP_8_LUMINOSITY_ERR']) > flux_limit and min(subset['EP_8_LUMINOSITY']-subset['EP_8_LUMINOSITY_ERR']) < flux_limit: #TRANSIENT\n",
    "        if plot_transients:\n",
    "            plt.figure(figsize=(15,3))\n",
    "            plt.ylabel('Lx')\n",
    "            plt.xlabel('MJD')\n",
    "            plt.title(str(subset['SRCID'].unique()[0]) + ' : ' + subset['IAUNAME'].unique()[0] + ' : TRANSIENT')\n",
    "            plt.errorbar(subset['MJD_START'], subset['EP_8_LUMINOSITY'], yerr=subset['EP_8_LUMINOSITY_ERR'], fmt='none', capsize=1.5)\n",
    "            plt.axhline(flux_limit, c='red')\n",
    "        number_of_transients+=1\n",
    "    elif max(subset['EP_8_LUMINOSITY_MAX']) < flux_limit: #DEAD\n",
    "        number_of_dead+=1\n",
    "    elif min(subset['EP_8_LUMINOSITY'] - subset['EP_8_LUMINOSITY_ERR']) > flux_limit: #Alive\n",
    "        number_of_alive+=1\n",
    "    else:\n",
    "        print('Unnacounted for source SRCID',source)\n",
    "\n",
    "print(f'number of sources with more than one observation: {len(sources)}')\n",
    "print('alive = ', number_of_alive,'/',len(sources))\n",
    "print('transient = ', number_of_transients,'/',len(sources))\n",
    "print('dead = ', number_of_dead,'/',len(sources))"
   ]
  },
  {
   "cell_type": "code",
   "execution_count": 9,
   "metadata": {},
   "outputs": [
    {
     "name": "stderr",
     "output_type": "stream",
     "text": [
      "100%|██████████| 81/81 [00:15<00:00,  5.36it/s]\n"
     ]
    }
   ],
   "source": [
    "# Monte carlo simulation on the obtained lightcurves to deduce\n",
    "# To what degree we can characterise a lightcurve as being\n",
    "# Alive/dead/transient\n",
    "MC_ITERATIONS = 100000\n",
    "\n",
    "results_list = []\n",
    "\n",
    "for source in tqdm(sources.index):\n",
    "    results = {}\n",
    "    alive = 0\n",
    "    dead = 0\n",
    "    transient = 0\n",
    "    subset = data[data['SRCID'] == source].sort_values(by=['MJD_START'])\n",
    "    simulated_luminosities = []\n",
    "    \n",
    "    for index, row in subset.iterrows():\n",
    "        # print(f\"index: {index} ep 8 luminosity: {row['EP_8_LUMINOSITY']}, err: {row['EP_8_LUMINOSITY_ERR']}\")\n",
    "        sample = np.random.normal(loc=row['EP_8_LUMINOSITY'], scale=row['EP_8_LUMINOSITY_ERR'], size=MC_ITERATIONS)\n",
    "        simulated_luminosities.append(sample)\n",
    "    \n",
    "    for i in (np.array(simulated_luminosities).T):\n",
    "        # print(f'out of {len(i)} points:')\n",
    "        number_above = len(i[i > 1E39])\n",
    "        number_below = len(i[i < 1E39])\n",
    "        if number_below == 0:\n",
    "            #print('alive')\n",
    "            alive+=1\n",
    "        elif number_above == 0:\n",
    "            #print('dead')\n",
    "            dead+=1\n",
    "        else:\n",
    "            #print(f'transient {number_above}, {number_below}')\n",
    "            transient+=1\n",
    "            \n",
    "    results['SRCID'] = source\n",
    "    results['alive'] = alive\n",
    "    results['dead'] = dead\n",
    "    results['transient'] = transient\n",
    "    results_list.append(results)"
   ]
  },
  {
   "cell_type": "code",
   "execution_count": 10,
   "metadata": {},
   "outputs": [],
   "source": [
    "# https://faraday.physics.utoronto.ca/PVB/Harrison/ErrorAnalysis/Propagation.html\n",
    "MC_results = pd.DataFrame(results_list)\n",
    "MC_results['classification'] = MC_results[['alive','dead', 'transient']].idxmax(axis=1)\n",
    "MC_results['confidence'] = MC_results[['alive','dead', 'transient']].max(axis=1)/MC_ITERATIONS\n",
    "MC_results['confidence_squared'] = MC_results['confidence']**2"
   ]
  },
  {
   "cell_type": "code",
   "execution_count": 11,
   "metadata": {},
   "outputs": [
    {
     "data": {
      "text/html": [
       "<div>\n",
       "<style scoped>\n",
       "    .dataframe tbody tr th:only-of-type {\n",
       "        vertical-align: middle;\n",
       "    }\n",
       "\n",
       "    .dataframe tbody tr th {\n",
       "        vertical-align: top;\n",
       "    }\n",
       "\n",
       "    .dataframe thead th {\n",
       "        text-align: right;\n",
       "    }\n",
       "</style>\n",
       "<table border=\"1\" class=\"dataframe\">\n",
       "  <thead>\n",
       "    <tr style=\"text-align: right;\">\n",
       "      <th></th>\n",
       "      <th>SRCID</th>\n",
       "      <th>alive</th>\n",
       "      <th>dead</th>\n",
       "      <th>transient</th>\n",
       "      <th>classification</th>\n",
       "      <th>confidence</th>\n",
       "      <th>confidence_squared</th>\n",
       "    </tr>\n",
       "  </thead>\n",
       "  <tbody>\n",
       "    <tr>\n",
       "      <th>65</th>\n",
       "      <td>51654</td>\n",
       "      <td>44406</td>\n",
       "      <td>10473</td>\n",
       "      <td>45121</td>\n",
       "      <td>transient</td>\n",
       "      <td>0.45121</td>\n",
       "      <td>0.203590</td>\n",
       "    </tr>\n",
       "    <tr>\n",
       "      <th>52</th>\n",
       "      <td>35211</td>\n",
       "      <td>45722</td>\n",
       "      <td>9062</td>\n",
       "      <td>45216</td>\n",
       "      <td>alive</td>\n",
       "      <td>0.45722</td>\n",
       "      <td>0.209050</td>\n",
       "    </tr>\n",
       "    <tr>\n",
       "      <th>71</th>\n",
       "      <td>28876</td>\n",
       "      <td>46503</td>\n",
       "      <td>8875</td>\n",
       "      <td>44622</td>\n",
       "      <td>alive</td>\n",
       "      <td>0.46503</td>\n",
       "      <td>0.216253</td>\n",
       "    </tr>\n",
       "    <tr>\n",
       "      <th>73</th>\n",
       "      <td>3277</td>\n",
       "      <td>48768</td>\n",
       "      <td>6921</td>\n",
       "      <td>44311</td>\n",
       "      <td>alive</td>\n",
       "      <td>0.48768</td>\n",
       "      <td>0.237832</td>\n",
       "    </tr>\n",
       "    <tr>\n",
       "      <th>77</th>\n",
       "      <td>42210</td>\n",
       "      <td>43948</td>\n",
       "      <td>5926</td>\n",
       "      <td>50126</td>\n",
       "      <td>transient</td>\n",
       "      <td>0.50126</td>\n",
       "      <td>0.251262</td>\n",
       "    </tr>\n",
       "    <tr>\n",
       "      <th>...</th>\n",
       "      <td>...</td>\n",
       "      <td>...</td>\n",
       "      <td>...</td>\n",
       "      <td>...</td>\n",
       "      <td>...</td>\n",
       "      <td>...</td>\n",
       "      <td>...</td>\n",
       "    </tr>\n",
       "    <tr>\n",
       "      <th>56</th>\n",
       "      <td>28555</td>\n",
       "      <td>100000</td>\n",
       "      <td>0</td>\n",
       "      <td>0</td>\n",
       "      <td>alive</td>\n",
       "      <td>1.00000</td>\n",
       "      <td>1.000000</td>\n",
       "    </tr>\n",
       "    <tr>\n",
       "      <th>55</th>\n",
       "      <td>28995</td>\n",
       "      <td>100000</td>\n",
       "      <td>0</td>\n",
       "      <td>0</td>\n",
       "      <td>alive</td>\n",
       "      <td>1.00000</td>\n",
       "      <td>1.000000</td>\n",
       "    </tr>\n",
       "    <tr>\n",
       "      <th>54</th>\n",
       "      <td>17412</td>\n",
       "      <td>100000</td>\n",
       "      <td>0</td>\n",
       "      <td>0</td>\n",
       "      <td>alive</td>\n",
       "      <td>1.00000</td>\n",
       "      <td>1.000000</td>\n",
       "    </tr>\n",
       "    <tr>\n",
       "      <th>51</th>\n",
       "      <td>6155</td>\n",
       "      <td>100000</td>\n",
       "      <td>0</td>\n",
       "      <td>0</td>\n",
       "      <td>alive</td>\n",
       "      <td>1.00000</td>\n",
       "      <td>1.000000</td>\n",
       "    </tr>\n",
       "    <tr>\n",
       "      <th>0</th>\n",
       "      <td>894</td>\n",
       "      <td>100000</td>\n",
       "      <td>0</td>\n",
       "      <td>0</td>\n",
       "      <td>alive</td>\n",
       "      <td>1.00000</td>\n",
       "      <td>1.000000</td>\n",
       "    </tr>\n",
       "  </tbody>\n",
       "</table>\n",
       "<p>81 rows × 7 columns</p>\n",
       "</div>"
      ],
      "text/plain": [
       "    SRCID   alive   dead  transient classification  confidence  \\\n",
       "65  51654   44406  10473      45121      transient     0.45121   \n",
       "52  35211   45722   9062      45216          alive     0.45722   \n",
       "71  28876   46503   8875      44622          alive     0.46503   \n",
       "73   3277   48768   6921      44311          alive     0.48768   \n",
       "77  42210   43948   5926      50126      transient     0.50126   \n",
       "..    ...     ...    ...        ...            ...         ...   \n",
       "56  28555  100000      0          0          alive     1.00000   \n",
       "55  28995  100000      0          0          alive     1.00000   \n",
       "54  17412  100000      0          0          alive     1.00000   \n",
       "51   6155  100000      0          0          alive     1.00000   \n",
       "0     894  100000      0          0          alive     1.00000   \n",
       "\n",
       "    confidence_squared  \n",
       "65            0.203590  \n",
       "52            0.209050  \n",
       "71            0.216253  \n",
       "73            0.237832  \n",
       "77            0.251262  \n",
       "..                 ...  \n",
       "56            1.000000  \n",
       "55            1.000000  \n",
       "54            1.000000  \n",
       "51            1.000000  \n",
       "0             1.000000  \n",
       "\n",
       "[81 rows x 7 columns]"
      ]
     },
     "execution_count": 11,
     "metadata": {},
     "output_type": "execute_result"
    }
   ],
   "source": [
    "MC_results.sort_values(by='confidence')"
   ]
  },
  {
   "cell_type": "code",
   "execution_count": 12,
   "metadata": {},
   "outputs": [],
   "source": [
    "number_of_alive = len(MC_results[MC_results['classification'] == 'alive'])\n",
    "number_of_alive_err = np.sqrt(MC_results[MC_results['classification'] == 'alive']['confidence_squared'].sum())\n",
    "number_of_transients = len(MC_results[MC_results['classification'] == 'transient'])\n",
    "number_of_transients_err = np.sqrt(MC_results[MC_results['classification'] == 'transient']['confidence_squared'].sum())\n",
    "number_of_dead = len(MC_results[MC_results['classification'] == 'dead'])\n",
    "number_of_dead_err = np.sqrt(MC_results[MC_results['classification'] == 'dead']['confidence_squared'].sum())\n",
    "\n",
    "\n",
    "#The total number here is defined only for the alive and transient systems\n",
    "number_total = number_of_alive + number_of_transients\n",
    "number_total_err = np.sqrt(number_of_alive_err**2 + number_of_transients_err**2)\n",
    "\n",
    "percent_of_alive = number_of_alive / (number_total)\n",
    "percent_of_transients = number_of_transients / (number_total)\n",
    "percent_of_alive_err = percent_of_alive * np.sqrt((number_total_err/number_total)**2 +  (number_of_alive_err/number_of_alive)**2)\n",
    "percent_of_transients_err = percent_of_transients * np.sqrt((number_total_err/number_total)**2 +  (number_of_transients_err/number_of_transients)**2)"
   ]
  },
  {
   "cell_type": "code",
   "execution_count": 13,
   "metadata": {},
   "outputs": [
    {
     "name": "stdout",
     "output_type": "stream",
     "text": [
      "Objects in Earnshaw cat: 384\n",
      "Objects with more than 1 observation: 81\n",
      "Number of alive systems: 67 +- 7.45\n",
      "Number of transient systems: 14 +- 2.71\n",
      "Number of dead systems: 0 +- 0.00\n",
      "% of alive systems: 0.83 +- 0.12\n",
      "% of transient systems: 0.17 +- 0.04\n"
     ]
    }
   ],
   "source": [
    "print(f'Objects in Earnshaw cat: {len(data[\"SRCID\"].unique())}')\n",
    "print(f'Objects with more than 1 observation: {len(sources)}')\n",
    "print(f'Number of alive systems: {number_of_alive} +- {number_of_alive_err:.2f}')\n",
    "print(f'Number of transient systems: {number_of_transients} +- {number_of_transients_err:.2f}')\n",
    "print(f'Number of dead systems: {number_of_dead} +- {number_of_dead_err:.2f}')\n",
    "print(f'% of alive systems: {percent_of_alive:.2f} +- {percent_of_alive_err:.2f}')\n",
    "print(f'% of transient systems: {percent_of_transients:.2f} +- {percent_of_transients_err:.2f}')"
   ]
  },
  {
   "cell_type": "code",
   "execution_count": 14,
   "metadata": {},
   "outputs": [
    {
     "data": {
      "text/plain": [
       "<AxesSubplot:ylabel='classification'>"
      ]
     },
     "execution_count": 14,
     "metadata": {},
     "output_type": "execute_result"
    },
    {
     "data": {
      "image/png": "[encoded data removed]",
      "text/plain": [
       "<Figure size 432x288 with 1 Axes>"
      ]
     },
     "metadata": {},
     "output_type": "display_data"
    }
   ],
   "source": [
    "plt.figure()\n",
    "MC_results['classification'].value_counts().plot(kind='pie', autopct='%1.1f%%')"
   ]
  },
  {
   "cell_type": "markdown",
   "metadata": {},
   "source": [
    "# Luminosity sampling, uniform vs normal"
   ]
  },
  {
   "cell_type": "code",
   "execution_count": 15,
   "metadata": {},
   "outputs": [
    {
     "name": "stdout",
     "output_type": "stream",
     "text": [
      "Doing source: 894\n",
      "index: 639 \t EP_8_LUMINOSITY: 8.77e+39 +- 9.06e+37 \t Normal_10000: L=8.77e+39 +- 8.99e+37 \t min=8.46e+39 \t Uniform_10000 L=4.44e+39 +- 2.46e+39 \t min=1.82e+38\n",
      "index: 647 \t EP_8_LUMINOSITY: 1.14e+40 +- 8.06e+38 \t Normal_10000: L=1.14e+40 +- 8.15e+38 \t min=8.23e+39 \t Uniform_10000 L=6.10e+39 +- 2.60e+39 \t min=1.61e+39\n",
      "index: 640 \t EP_8_LUMINOSITY: 1.77e+40 +- 3.32e+38 \t Normal_10000: L=1.77e+40 +- 3.28e+38 \t min=1.66e+40 \t Uniform_10000 L=9.07e+39 +- 4.83e+39 \t min=6.64e+38\n",
      "index: 644 \t EP_8_LUMINOSITY: 1.68e+40 +- 4.66e+38 \t Normal_10000: L=1.68e+40 +- 4.64e+38 \t min=1.52e+40 \t Uniform_10000 L=8.62e+39 +- 4.46e+39 \t min=9.34e+38\n",
      "index: 648 \t EP_8_LUMINOSITY: 1.32e+40 +- 5.15e+38 \t Normal_10000: L=1.32e+40 +- 5.20e+38 \t min=1.11e+40 \t Uniform_10000 L=6.85e+39 +- 3.35e+39 \t min=1.03e+39\n",
      "index: 641 \t EP_8_LUMINOSITY: 1.43e+40 +- 2.90e+38 \t Normal_10000: L=1.43e+40 +- 2.89e+38 \t min=1.33e+40 \t Uniform_10000 L=7.32e+39 +- 3.91e+39 \t min=5.81e+38\n",
      "index: 645 \t EP_8_LUMINOSITY: 1.44e+40 +- 3.00e+38 \t Normal_10000: L=1.44e+40 +- 3.03e+38 \t min=1.33e+40 \t Uniform_10000 L=7.33e+39 +- 3.93e+39 \t min=6.02e+38\n",
      "index: 646 \t EP_8_LUMINOSITY: 1.10e+40 +- 3.70e+38 \t Normal_10000: L=1.10e+40 +- 3.71e+38 \t min=9.62e+39 \t Uniform_10000 L=5.66e+39 +- 2.83e+39 \t min=7.42e+38\n",
      "index: 638 \t EP_8_LUMINOSITY: 1.83e+40 +- 2.33e+38 \t Normal_10000: L=1.83e+40 +- 2.32e+38 \t min=1.75e+40 \t Uniform_10000 L=9.28e+39 +- 5.07e+39 \t min=4.67e+38\n",
      "index: 642 \t EP_8_LUMINOSITY: 5.01e+39 +- 9.81e+37 \t Normal_10000: L=5.01e+39 +- 9.79e+37 \t min=4.62e+39 \t Uniform_10000 L=2.53e+39 +- 1.36e+39 \t min=1.96e+38\n",
      "index: 643 \t EP_8_LUMINOSITY: 1.05e+40 +- 2.08e+38 \t Normal_10000: L=1.05e+40 +- 2.06e+38 \t min=9.81e+39 \t Uniform_10000 L=5.39e+39 +- 2.85e+39 \t min=4.17e+38\n",
      "index: 637 \t EP_8_LUMINOSITY: 1.98e+40 +- 3.63e+38 \t Normal_10000: L=1.98e+40 +- 3.60e+38 \t min=1.85e+40 \t Uniform_10000 L=1.00e+40 +- 5.40e+39 \t min=7.27e+38\n",
      "index: 636 \t EP_8_LUMINOSITY: 8.27e+39 +- 4.17e+37 \t Normal_10000: L=8.27e+39 +- 4.17e+37 \t min=8.11e+39 \t Uniform_10000 L=4.14e+39 +- 2.35e+39 \t min=8.42e+37\n",
      "Doing source: 1915\n",
      "index: 1857 \t EP_8_LUMINOSITY: 7.62e+39 +- 1.13e+38 \t Normal_10000: L=7.62e+39 +- 1.13e+38 \t min=7.21e+39 \t Uniform_10000 L=3.87e+39 +- 2.10e+39 \t min=2.26e+38\n",
      "index: 1856 \t EP_8_LUMINOSITY: 7.20e+39 +- 1.06e+38 \t Normal_10000: L=7.21e+39 +- 1.06e+38 \t min=6.83e+39 \t Uniform_10000 L=3.63e+39 +- 2.00e+39 \t min=2.13e+38\n",
      "index: 1858 \t EP_8_LUMINOSITY: 8.36e+39 +- 1.68e+38 \t Normal_10000: L=8.36e+39 +- 1.67e+38 \t min=7.79e+39 \t Uniform_10000 L=4.26e+39 +- 2.28e+39 \t min=3.37e+38\n",
      "index: 1851 \t EP_8_LUMINOSITY: 5.56e+39 +- 1.15e+38 \t Normal_10000: L=5.56e+39 +- 1.15e+38 \t min=5.16e+39 \t Uniform_10000 L=2.79e+39 +- 1.51e+39 \t min=2.30e+38\n",
      "index: 1848 \t EP_8_LUMINOSITY: 5.17e+39 +- 1.21e+38 \t Normal_10000: L=5.17e+39 +- 1.22e+38 \t min=4.69e+39 \t Uniform_10000 L=2.66e+39 +- 1.39e+39 \t min=2.43e+38\n",
      "index: 1850 \t EP_8_LUMINOSITY: 5.55e+39 +- 2.22e+37 \t Normal_10000: L=5.55e+39 +- 2.23e+37 \t min=5.47e+39 \t Uniform_10000 L=2.77e+39 +- 1.58e+39 \t min=4.47e+37\n",
      "index: 1849 \t EP_8_LUMINOSITY: 5.40e+39 +- 3.16e+37 \t Normal_10000: L=5.40e+39 +- 3.15e+37 \t min=5.28e+39 \t Uniform_10000 L=2.73e+39 +- 1.53e+39 \t min=6.34e+37\n",
      "index: 1855 \t EP_8_LUMINOSITY: 6.74e+39 +- 2.77e+37 \t Normal_10000: L=6.74e+39 +- 2.72e+37 \t min=6.64e+39 \t Uniform_10000 L=3.37e+39 +- 1.91e+39 \t min=5.57e+37\n",
      "index: 1854 \t EP_8_LUMINOSITY: 6.58e+39 +- 2.50e+37 \t Normal_10000: L=6.58e+39 +- 2.48e+37 \t min=6.48e+39 \t Uniform_10000 L=3.31e+39 +- 1.89e+39 \t min=5.07e+37\n",
      "index: 1853 \t EP_8_LUMINOSITY: 6.08e+39 +- 2.51e+37 \t Normal_10000: L=6.08e+39 +- 2.51e+37 \t min=5.97e+39 \t Uniform_10000 L=3.04e+39 +- 1.72e+39 \t min=5.07e+37\n",
      "index: 1852 \t EP_8_LUMINOSITY: 6.06e+39 +- 2.58e+37 \t Normal_10000: L=6.06e+39 +- 2.60e+37 \t min=5.97e+39 \t Uniform_10000 L=3.05e+39 +- 1.73e+39 \t min=5.23e+37\n",
      "Doing source: 2049\n",
      "index: 1257 \t EP_8_LUMINOSITY: 2.50e+40 +- 9.48e+39 \t Normal_10000: L=2.52e+40 +- 9.46e+39 \t min=-8.81e+39 \t Uniform_10000 L=1.73e+40 +- 9.82e+38 \t min=1.56e+40\n",
      "index: 1259 \t EP_8_LUMINOSITY: 2.88e+40 +- 8.05e+39 \t Normal_10000: L=2.88e+40 +- 8.01e+39 \t min=-3.54e+39 \t Uniform_10000 L=1.84e+40 +- 1.35e+39 \t min=1.61e+40\n",
      "index: 1255 \t EP_8_LUMINOSITY: 2.28e+40 +- 3.16e+39 \t Normal_10000: L=2.27e+40 +- 3.16e+39 \t min=1.13e+40 \t Uniform_10000 L=1.30e+40 +- 3.83e+39 \t min=6.33e+39\n",
      "index: 1261 \t EP_8_LUMINOSITY: 3.25e+40 +- 1.67e+40 \t Normal_10000: L=3.24e+40 +- 1.66e+40 \t min=-3.16e+40 \t Uniform_10000 L=2.46e+40 +- 5.10e+39 \t min=1.57e+40\n",
      "index: 1264 \t EP_8_LUMINOSITY: 1.31e+41 +- 7.09e+40 \t Normal_10000: L=1.30e+41 +- 7.15e+40 \t min=-1.48e+41 \t Uniform_10000 L=1.01e+41 +- 2.38e+40 \t min=5.97e+40\n",
      "index: 1262 \t EP_8_LUMINOSITY: 3.50e+40 +- 2.63e+40 \t Normal_10000: L=3.50e+40 +- 2.63e+40 \t min=-7.54e+40 \t Uniform_10000 L=3.07e+40 +- 1.27e+40 \t min=8.71e+39\n",
      "index: 1258 \t EP_8_LUMINOSITY: 2.08e+40 +- 1.59e+40 \t Normal_10000: L=2.08e+40 +- 1.61e+40 \t min=-5.04e+40 \t Uniform_10000 L=1.84e+40 +- 7.78e+39 \t min=4.93e+39\n",
      "index: 1256 \t EP_8_LUMINOSITY: 1.98e+40 +- 9.84e+39 \t Normal_10000: L=1.97e+40 +- 9.82e+39 \t min=-2.29e+40 \t Uniform_10000 L=1.48e+40 +- 2.84e+39 \t min=9.95e+39\n",
      "index: 1260 \t EP_8_LUMINOSITY: 2.99e+40 +- 1.71e+40 \t Normal_10000: L=2.99e+40 +- 1.69e+40 \t min=-3.24e+40 \t Uniform_10000 L=2.36e+40 +- 6.20e+39 \t min=1.28e+40\n",
      "index: 1263 \t EP_8_LUMINOSITY: 4.59e+40 +- 2.16e+40 \t Normal_10000: L=4.56e+40 +- 2.15e+40 \t min=-3.58e+40 \t Uniform_10000 L=3.38e+40 +- 5.44e+39 \t min=2.44e+40\n"
     ]
    }
   ],
   "source": [
    "N_mc  = 10000\n",
    "N_sys = 500\n",
    "results_list = []\n",
    "\n",
    "for source in sources.index[0:3]:\n",
    "    print(f'Doing source: {source}')\n",
    "    subset = data[data['SRCID'] == source].sort_values(by=['MJD_START'])\n",
    "    simulated_luminosities = []\n",
    "    \n",
    "    for index, row in subset.iterrows():\n",
    "        L_sample = np.random.normal(loc=row['EP_8_LUMINOSITY'], scale=row['EP_8_LUMINOSITY_ERR'], size=N_mc)\n",
    "        L_mean = np.mean(L_sample)\n",
    "        L_std  = np.std(L_sample)\n",
    "\n",
    "        L_sample_uni = np.random.uniform(row['EP_8_LUMINOSITY']-row['EP_8_LUMINOSITY_ERR'], row['EP_8_LUMINOSITY_ERR']+row['EP_8_LUMINOSITY_ERR'], size=N_mc)\n",
    "        L_mean_uni = np.mean(L_sample_uni)\n",
    "        L_std_uni  = np.std(L_sample_uni)\n",
    "        \n",
    "        \n",
    "        print(f\"index: {index} \\t EP_8_LUMINOSITY: {row['EP_8_LUMINOSITY']:.2e} +- {row['EP_8_LUMINOSITY_ERR']:.2e} \\t Normal_10000: L={L_mean:.2e} +- {L_std:.2e} \\t min={min(L_sample):.2e} \\t Uniform_10000 L={L_mean_uni:.2e} +- {L_std_uni:.2e} \\t min={min(L_sample_uni):.2e}\")"
   ]
  },
  {
   "cell_type": "markdown",
   "metadata": {},
   "source": [
    "# 31/03/2020 Getting array of N_sys*N_mc of luminosities from catalogue"
   ]
  },
  {
   "cell_type": "code",
   "execution_count": 17,
   "metadata": {},
   "outputs": [],
   "source": [
    "import powerlaw"
   ]
  },
  {
   "cell_type": "code",
   "execution_count": 18,
   "metadata": {},
   "outputs": [],
   "source": [
    "data = df_earnshaw()"
   ]
  },
  {
   "cell_type": "code",
   "execution_count": 19,
   "metadata": {},
   "outputs": [
    {
     "name": "stdout",
     "output_type": "stream",
     "text": [
      "filter performed(L_ERR_RATIO<0.8): old length: 2139 new length: 2053 change: -86\n",
      "filter performed: old unique SRCID: 1314 NEW unique SRCID: 1259 change: -55\n"
     ]
    }
   ],
   "source": [
    "err_cutoff = 0.8\n",
    "sub = data[['SRCID', 'DISTANCE_BEST', 'MJD_START', 'EP_8_LUMINOSITY', 'EP_8_LUMINOSITY_ERR']].copy()\n",
    "sub['L_ERR_RATIO'] = sub['EP_8_LUMINOSITY_ERR']  / sub['EP_8_LUMINOSITY']\n",
    "sub_filt = sub[sub['L_ERR_RATIO'] < err_cutoff]\n",
    "sub\n",
    "\n",
    "print(f'filter performed(L_ERR_RATIO<{err_cutoff}): old length: {len(sub)} new length: {len(sub_filt)} change: {len(sub_filt) - len(sub)}')\n",
    "N_srcid_unique_old = len(sub['SRCID'].unique())\n",
    "N_srcid_unique_new = len(sub_filt['SRCID'].unique())\n",
    "print(f'filter performed: old unique SRCID: {N_srcid_unique_old} NEW unique SRCID: {N_srcid_unique_new} change: {N_srcid_unique_new - N_srcid_unique_old}')\n"
   ]
  },
  {
   "cell_type": "code",
   "execution_count": 20,
   "metadata": {},
   "outputs": [
    {
     "data": {
      "text/html": [
       "<div>\n",
       "<style scoped>\n",
       "    .dataframe tbody tr th:only-of-type {\n",
       "        vertical-align: middle;\n",
       "    }\n",
       "\n",
       "    .dataframe tbody tr th {\n",
       "        vertical-align: top;\n",
       "    }\n",
       "\n",
       "    .dataframe thead th {\n",
       "        text-align: right;\n",
       "    }\n",
       "</style>\n",
       "<table border=\"1\" class=\"dataframe\">\n",
       "  <thead>\n",
       "    <tr style=\"text-align: right;\">\n",
       "      <th></th>\n",
       "      <th>SRCID</th>\n",
       "      <th>DISTANCE_BEST</th>\n",
       "      <th>MJD_START</th>\n",
       "      <th>EP_8_LUMINOSITY</th>\n",
       "      <th>EP_8_LUMINOSITY_ERR</th>\n",
       "      <th>L_ERR_RATIO</th>\n",
       "    </tr>\n",
       "  </thead>\n",
       "  <tbody>\n",
       "    <tr>\n",
       "      <th>0</th>\n",
       "      <td>118684</td>\n",
       "      <td>0.981200</td>\n",
       "      <td>52996.978380</td>\n",
       "      <td>2.692657e+36</td>\n",
       "      <td>1.013417e+36</td>\n",
       "      <td>0.376363</td>\n",
       "    </tr>\n",
       "    <tr>\n",
       "      <th>1</th>\n",
       "      <td>118656</td>\n",
       "      <td>0.981200</td>\n",
       "      <td>52996.978380</td>\n",
       "      <td>7.985324e+36</td>\n",
       "      <td>1.250692e+36</td>\n",
       "      <td>0.156624</td>\n",
       "    </tr>\n",
       "    <tr>\n",
       "      <th>2</th>\n",
       "      <td>118560</td>\n",
       "      <td>0.981200</td>\n",
       "      <td>52996.978380</td>\n",
       "      <td>5.147298e+36</td>\n",
       "      <td>1.213765e+36</td>\n",
       "      <td>0.235806</td>\n",
       "    </tr>\n",
       "    <tr>\n",
       "      <th>3</th>\n",
       "      <td>118540</td>\n",
       "      <td>0.981200</td>\n",
       "      <td>52996.978380</td>\n",
       "      <td>4.711121e+36</td>\n",
       "      <td>1.317196e+36</td>\n",
       "      <td>0.279593</td>\n",
       "    </tr>\n",
       "    <tr>\n",
       "      <th>4</th>\n",
       "      <td>122027</td>\n",
       "      <td>0.757714</td>\n",
       "      <td>52823.765810</td>\n",
       "      <td>5.400172e+35</td>\n",
       "      <td>1.793150e+35</td>\n",
       "      <td>0.332054</td>\n",
       "    </tr>\n",
       "    <tr>\n",
       "      <th>...</th>\n",
       "      <td>...</td>\n",
       "      <td>...</td>\n",
       "      <td>...</td>\n",
       "      <td>...</td>\n",
       "      <td>...</td>\n",
       "      <td>...</td>\n",
       "    </tr>\n",
       "    <tr>\n",
       "      <th>2134</th>\n",
       "      <td>43541</td>\n",
       "      <td>135.720001</td>\n",
       "      <td>56068.510590</td>\n",
       "      <td>7.370659e+40</td>\n",
       "      <td>2.940729e+40</td>\n",
       "      <td>0.398978</td>\n",
       "    </tr>\n",
       "    <tr>\n",
       "      <th>2135</th>\n",
       "      <td>236202</td>\n",
       "      <td>24.906666</td>\n",
       "      <td>52241.631181</td>\n",
       "      <td>8.350492e+38</td>\n",
       "      <td>2.723975e+38</td>\n",
       "      <td>0.326205</td>\n",
       "    </tr>\n",
       "    <tr>\n",
       "      <th>2136</th>\n",
       "      <td>241323</td>\n",
       "      <td>22.799999</td>\n",
       "      <td>53536.690347</td>\n",
       "      <td>3.531174e+39</td>\n",
       "      <td>8.007255e+38</td>\n",
       "      <td>0.226759</td>\n",
       "    </tr>\n",
       "    <tr>\n",
       "      <th>2137</th>\n",
       "      <td>239871</td>\n",
       "      <td>57.026669</td>\n",
       "      <td>52446.823507</td>\n",
       "      <td>1.040011e+40</td>\n",
       "      <td>1.483431e+39</td>\n",
       "      <td>0.142636</td>\n",
       "    </tr>\n",
       "    <tr>\n",
       "      <th>2138</th>\n",
       "      <td>239945</td>\n",
       "      <td>57.026669</td>\n",
       "      <td>52446.823507</td>\n",
       "      <td>8.650797e+39</td>\n",
       "      <td>1.197916e+39</td>\n",
       "      <td>0.138475</td>\n",
       "    </tr>\n",
       "  </tbody>\n",
       "</table>\n",
       "<p>2139 rows × 6 columns</p>\n",
       "</div>"
      ],
      "text/plain": [
       "       SRCID  DISTANCE_BEST     MJD_START  EP_8_LUMINOSITY  \\\n",
       "0     118684       0.981200  52996.978380     2.692657e+36   \n",
       "1     118656       0.981200  52996.978380     7.985324e+36   \n",
       "2     118560       0.981200  52996.978380     5.147298e+36   \n",
       "3     118540       0.981200  52996.978380     4.711121e+36   \n",
       "4     122027       0.757714  52823.765810     5.400172e+35   \n",
       "...      ...            ...           ...              ...   \n",
       "2134   43541     135.720001  56068.510590     7.370659e+40   \n",
       "2135  236202      24.906666  52241.631181     8.350492e+38   \n",
       "2136  241323      22.799999  53536.690347     3.531174e+39   \n",
       "2137  239871      57.026669  52446.823507     1.040011e+40   \n",
       "2138  239945      57.026669  52446.823507     8.650797e+39   \n",
       "\n",
       "      EP_8_LUMINOSITY_ERR  L_ERR_RATIO  \n",
       "0            1.013417e+36     0.376363  \n",
       "1            1.250692e+36     0.156624  \n",
       "2            1.213765e+36     0.235806  \n",
       "3            1.317196e+36     0.279593  \n",
       "4            1.793150e+35     0.332054  \n",
       "...                   ...          ...  \n",
       "2134         2.940729e+40     0.398978  \n",
       "2135         2.723975e+38     0.326205  \n",
       "2136         8.007255e+38     0.226759  \n",
       "2137         1.483431e+39     0.142636  \n",
       "2138         1.197916e+39     0.138475  \n",
       "\n",
       "[2139 rows x 6 columns]"
      ]
     },
     "execution_count": 20,
     "metadata": {},
     "output_type": "execute_result"
    }
   ],
   "source": [
    "sub"
   ]
  },
  {
   "cell_type": "code",
   "execution_count": 21,
   "metadata": {},
   "outputs": [
    {
     "data": {
      "image/png": "[encoded data removed]",
      "text/plain": [
       "<Figure size 432x288 with 1 Axes>"
      ]
     },
     "metadata": {
      "needs_background": "light"
     },
     "output_type": "display_data"
    },
    {
     "data": {
      "image/png": "[encoded data removed]",
      "text/plain": [
       "<Figure size 432x288 with 1 Axes>"
      ]
     },
     "metadata": {
      "needs_background": "light"
     },
     "output_type": "display_data"
    }
   ],
   "source": [
    "plt.title('L_ERR_RATIO original')\n",
    "plt.hist(sub['L_ERR_RATIO'], bins=100)\n",
    "plt.show()\n",
    "plt.title('L_ERR_RATIO new')\n",
    "plt.hist(sub_filt['L_ERR_RATIO'], bins=100)\n",
    "plt.show()"
   ]
  },
  {
   "cell_type": "code",
   "execution_count": 22,
   "metadata": {},
   "outputs": [
    {
     "data": {
      "image/png": "[encoded data removed]",
      "text/plain": [
       "<Figure size 1080x720 with 1 Axes>"
      ]
     },
     "metadata": {
      "needs_background": "light"
     },
     "output_type": "display_data"
    }
   ],
   "source": [
    "plt.figure(figsize=(15,10))\n",
    "plt.errorbar(sub['MJD_START'], sub['EP_8_LUMINOSITY'], yerr=sub['EP_8_LUMINOSITY_ERR'], linestyle='none', label='cat')\n",
    "plt.errorbar(sub_filt['MJD_START'], sub_filt['EP_8_LUMINOSITY'], yerr=sub_filt['EP_8_LUMINOSITY_ERR'], linestyle='none', label='cat_filtered')\n",
    "plt.ylabel('L')\n",
    "plt.xlabel('MJD_START')\n",
    "plt.legend()\n",
    "plt.yscale('log')"
   ]
  },
  {
   "cell_type": "code",
   "execution_count": 23,
   "metadata": {},
   "outputs": [
    {
     "data": {
      "image/png": "[encoded data removed]",
      "text/plain": [
       "<Figure size 1080x720 with 1 Axes>"
      ]
     },
     "metadata": {
      "needs_background": "light"
     },
     "output_type": "display_data"
    }
   ],
   "source": [
    "plt.figure(figsize=(15,10))\n",
    "plt.errorbar(sub['DISTANCE_BEST'], sub['EP_8_LUMINOSITY'], yerr=sub['EP_8_LUMINOSITY_ERR'], linestyle='none', label='cat')\n",
    "plt.errorbar(sub_filt['DISTANCE_BEST'], sub_filt['EP_8_LUMINOSITY'], yerr=sub_filt['EP_8_LUMINOSITY_ERR'], linestyle='none', label='cat_filtered')\n",
    "\n",
    "plt.ylabel('L')\n",
    "plt.xlabel('DISTANCE BEST (Mpc)')\n",
    "plt.legend()\n",
    "plt.yscale('log')\n"
   ]
  },
  {
   "cell_type": "code",
   "execution_count": 24,
   "metadata": {},
   "outputs": [
    {
     "name": "stderr",
     "output_type": "stream",
     "text": [
      "100%|██████████| 10000/10000 [00:58<00:00, 171.88it/s]\n"
     ]
    }
   ],
   "source": [
    "def L_samp(series):\n",
    "    return np.random.normal(series['EP_8_LUMINOSITY'], scale=series['EP_8_LUMINOSITY_ERR'])\n",
    "\n",
    "N_mc = 10000\n",
    "N_sys = 500\n",
    "Ls = np.ndarray((N_mc, N_sys))\n",
    "for i in tqdm(range(N_mc)):\n",
    "    samp = sub_filt.sample(500).apply(L_samp, axis=1)\n",
    "    Ls[i] = samp.values"
   ]
  },
  {
   "cell_type": "code",
   "execution_count": 25,
   "metadata": {},
   "outputs": [],
   "source": [
    "np.save(f'../data/L_samp_earnshaw,N_mc-{N_mc},N_sys-{N_sys}.npy', Ls)"
   ]
  },
  {
   "cell_type": "code",
   "execution_count": null,
   "metadata": {},
   "outputs": [],
   "source": []
  },
  {
   "cell_type": "code",
   "execution_count": 41,
   "metadata": {},
   "outputs": [
    {
     "name": "stderr",
     "output_type": "stream",
     "text": [
      "<ipython-input-41-6903ab14da70>:3: RuntimeWarning: invalid value encountered in log10\n",
      "  plt.hist(np.log10(Ls[7]), bins=bins, label='Single sample catalogue histogram')\n"
     ]
    },
    {
     "data": {
      "image/png": "[encoded data removed]",
      "text/plain": [
       "<Figure size 432x288 with 1 Axes>"
      ]
     },
     "metadata": {
      "needs_background": "light"
     },
     "output_type": "display_data"
    }
   ],
   "source": [
    "data = df_earnshaw()\n",
    "plt.hist(np.log10(data['EP_8_LUMINOSITY']), bins=bins, label='Entire catalogue histogram')\n",
    "plt.hist(np.log10(Ls[7]), bins=bins, label='Single sample catalogue histogram')\n",
    "plt.yscale('log')\n",
    "plt.legend()\n",
    "plt.show()"
   ]
  },
  {
   "cell_type": "code",
   "execution_count": 28,
   "metadata": {},
   "outputs": [
    {
     "name": "stderr",
     "output_type": "stream",
     "text": [
      "<ipython-input-28-0a895248aab0>:1: RuntimeWarning: invalid value encountered in log10\n",
      "  hist = np.histogram(np.log10(Ls[0]), bins=bins)[0]\n"
     ]
    },
    {
     "data": {
      "text/plain": [
       "[<matplotlib.lines.Line2D at 0x7f61c8205d60>]"
      ]
     },
     "execution_count": 28,
     "metadata": {},
     "output_type": "execute_result"
    },
    {
     "data": {
      "image/png": "[encoded data removed]",
      "text/plain": [
       "<Figure size 432x288 with 1 Axes>"
      ]
     },
     "metadata": {
      "needs_background": "light"
     },
     "output_type": "display_data"
    }
   ],
   "source": [
    "hist = np.histogram(np.log10(Ls[0]), bins=bins)[0]\n",
    "hist_cum = np.cumsum(hist)\n",
    "hist_surv = sum(hist) - hist_cum\n",
    "plt.title('Single sample survival')\n",
    "plt.step(bins[:-1], hist_surv)"
   ]
  },
  {
   "cell_type": "markdown",
   "metadata": {},
   "source": [
    "01/04/2021\n",
    "\n",
    "One thing that I could do is take Earnshaw's catalogue and incoperate the average\n",
    "eRASS flux limit and see what the effect of eRASS would be on our sample."
   ]
  },
  {
   "cell_type": "raw",
   "metadata": {},
   "source": [
    "# Number of sources in catalogue at given distances\n",
    "\n",
    "# eRASS will have an average exposure over the entire sky and thefore a flux limit\n",
    "figure out what this average exposure equates to as a maximum distance with L=1e39 ergs\n",
    "\n",
    "compare that volume to the volume in earnshaw's catalogue and see how many sources are said volume.\n",
    "\n",
    "# sources within <10Mpc in Earnshaw's catalogue = 500 (completeness = 20% example)\n",
    "# sources erass >500 "
   ]
  },
  {
   "cell_type": "code",
   "execution_count": 30,
   "metadata": {},
   "outputs": [
    {
     "data": {
      "text/plain": [
       "27.561497072626782"
      ]
     },
     "execution_count": 30,
     "metadata": {},
     "output_type": "execute_result"
    }
   ],
   "source": [
    "Mpc = 3.086e24    #cm\n",
    "erass1 = 4.14e-14 # erg s^-1 cm^-2\n",
    "erass8 = 1.1e-14  # erg s^-1 cm^-2\n",
    "erass1*4*np.pi*(5*Mpc)**2  # Detection limit at 5Mpc\n",
    "erass8*4*np.pi*(5*Mpc)**2  # Detection limit at 5Mpc\n",
    "erass8*4*np.pi*(10*Mpc)**2 # Detection limit at 5Mpc\n",
    "erass8*4*np.pi*(20*Mpc)**2 # Detection limit at 5Mpc\n",
    "erass1*4*np.pi*(10*Mpc)**2 # Detection limit at 5Mpc\n",
    "erass1*4*np.pi*(20*Mpc)**2 # Detection limit at 5Mpc\n",
    "np.sqrt(1e39 / (erass1*np.pi*4)) / Mpc # ULX Detection distance erass 1 = 14.2Mpc\n",
    "np.sqrt(1e39 / (erass8*np.pi*4)) / Mpc # ULX detection distance erass 8 = 27.56Mpc"
   ]
  },
  {
   "cell_type": "code",
   "execution_count": 31,
   "metadata": {},
   "outputs": [],
   "source": [
    "data = df_earnshaw()"
   ]
  },
  {
   "cell_type": "code",
   "execution_count": 32,
   "metadata": {},
   "outputs": [
    {
     "name": "stdout",
     "output_type": "stream",
     "text": [
      "sources within 27.56Mpc = 1118\n",
      "ULXs within 27.56Mpc = 163\n"
     ]
    }
   ],
   "source": [
    "sub = data[data['DISTANCE_BEST'] < 27.561497072626782]\n",
    "print(f'sources within 27.56Mpc = {len(sub[\"SRCID\"].unique())}')\n",
    "sub = sub[sub['EP_8_LUMINOSITY'] > 1E39]\n",
    "print(f'ULXs within 27.56Mpc = {len(sub[\"SRCID\"].unique())}')"
   ]
  },
  {
   "cell_type": "code",
   "execution_count": 33,
   "metadata": {},
   "outputs": [
    {
     "name": "stdout",
     "output_type": "stream",
     "text": [
      "sources within 14.2Mpc = 793\n",
      "ULXs within 14.2Mpc = 50\n"
     ]
    }
   ],
   "source": [
    "sub = data[data['DISTANCE_BEST'] < 14.2]\n",
    "print(f'sources within 14.2Mpc = {len(sub[\"SRCID\"].unique())}')\n",
    "sub = sub[sub['EP_8_LUMINOSITY'] > 1E39]\n",
    "print(f'ULXs within 14.2Mpc = {len(sub[\"SRCID\"].unique())}')"
   ]
  },
  {
   "cell_type": "code",
   "execution_count": null,
   "metadata": {},
   "outputs": [],
   "source": []
  },
  {
   "cell_type": "code",
   "execution_count": null,
   "metadata": {},
   "outputs": [],
   "source": []
  }
 ],
 "metadata": {
  "kernelspec": {
   "display_name": "Python 3",
   "language": "python",
   "name": "python3"
  },
  "language_info": {
   "codemirror_mode": {
    "name": "ipython",
    "version": 3
   },
   "file_extension": ".py",
   "mimetype": "text/x-python",
   "name": "python",
   "nbconvert_exporter": "python",
   "pygments_lexer": "ipython3",
   "version": "3.8.0"
  }
 },
 "nbformat": 4,
 "nbformat_minor": 4
}
