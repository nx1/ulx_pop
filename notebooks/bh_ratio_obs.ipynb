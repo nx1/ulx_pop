{
 "cells": [
  {
   "cell_type": "code",
   "execution_count": 182,
   "metadata": {},
   "outputs": [],
   "source": [
    "import pandas as pd\n",
    "from pathlib import Path\n",
    "import numpy as np\n",
    "from tqdm import tqdm\n",
    "import matplotlib.pyplot as plt"
   ]
  },
  {
   "cell_type": "code",
   "execution_count": 183,
   "metadata": {},
   "outputs": [],
   "source": [
    "def load_systems_dataframe(ulx_only=False, beamed=False, half_opening_l_45=False):\n",
    "    systems_df_path = Path('../data/processed/all_systems_df.csv')\n",
    "    df = pd.read_csv(systems_df_path)\n",
    "    if ulx_only:\n",
    "        df = df[df['Lx'] > 1E39]\n",
    "    if beamed:\n",
    "        df = df[df['b'] < 1]\n",
    "    if half_opening_l_45:\n",
    "        df = df[df['theta_half_deg'] < 45]\n",
    "        \n",
    "    df = df.drop(['Unnamed: 0'], axis=1)\n",
    "    return df"
   ]
  },
  {
   "cell_type": "code",
   "execution_count": 184,
   "metadata": {},
   "outputs": [],
   "source": [
    "Z = 0.02\n",
    "systems_df = load_systems_dataframe(True, False, False)\n",
    "if Z == 'all':\n",
    "    systems_df = systems_df\n",
    "else:\n",
    "    systems_df = systems_df[systems_df['Z']==Z]"
   ]
  },
  {
   "cell_type": "code",
   "execution_count": 185,
   "metadata": {},
   "outputs": [],
   "source": [
    "curve_classifications = pd.read_csv('../data/processed/curve_classications.csv')"
   ]
  },
  {
   "cell_type": "code",
   "execution_count": 186,
   "metadata": {},
   "outputs": [],
   "source": [
    "# Fast BH sampler"
   ]
  },
  {
   "cell_type": "code",
   "execution_count": 187,
   "metadata": {},
   "outputs": [],
   "source": [
    "def create_keys(selected_systems, selected_dincls, selected_inclinations,):\n",
    "    a = np.core.defchararray.add(selected_systems.astype(str), '-')\n",
    "    b = np.core.defchararray.add(selected_dincls.astype(str), '-')\n",
    "    keys = np.core.defchararray.add(a,b)\n",
    "    keys = np.core.defchararray.add(keys,selected_inclinations.astype(str))\n",
    "    return keys"
   ]
  },
  {
   "cell_type": "code",
   "execution_count": 188,
   "metadata": {},
   "outputs": [],
   "source": [
    "def create_classification_dict():\n",
    "    # Classication dict\n",
    "    keys = (curve_classifications['system_id'].astype(str) +\n",
    "            '-' + curve_classifications['dincl'].astype(str) +\n",
    "            '-' + curve_classifications['inclination'].astype(str)).values\n",
    "    classications = curve_classifications['classification'].values\n",
    "    class_dict = dict(zip(keys,classications))\n",
    "    return class_dict\n",
    "\n",
    "class_dict = create_classification_dict()"
   ]
  },
  {
   "cell_type": "code",
   "execution_count": 189,
   "metadata": {},
   "outputs": [],
   "source": [
    "bh_systems = systems_df[systems_df['is_bh'] == 1].index\n",
    "ns_systems = systems_df[systems_df['is_bh'] == 0].index"
   ]
  },
  {
   "cell_type": "code",
   "execution_count": 190,
   "metadata": {},
   "outputs": [
    {
     "name": "stderr",
     "output_type": "stream",
     "text": [
      "100%|██████████| 10000/10000 [07:00<00:00, 23.81it/s]\n"
     ]
    }
   ],
   "source": [
    "res = []\n",
    "number_of_repeats = 10000\n",
    "for i in tqdm(range(number_of_repeats)):\n",
    "    for bh_ratio in np.arange(0,1.05,0.05):\n",
    "        ns_ratio = 1 - bh_ratio\n",
    "\n",
    "        bh_weights = [bh_ratio/len(bh_systems)]*len(bh_systems)\n",
    "        ns_weights = [ns_ratio/len(ns_systems)]*len(ns_systems)\n",
    "\n",
    "        selected_systems = np.random.choice([*bh_systems, *ns_systems], size=500, p=[*bh_weights, *ns_weights])\n",
    "        selected_dincls = np.random.randint(0,46, size=500)\n",
    "        selected_inclinations = np.random.randint(0,91, size=500)\n",
    "        selected_keys = create_keys(selected_systems, selected_dincls, selected_inclinations)\n",
    "\n",
    "        res_classications = [class_dict.get(key) for key in selected_keys]\n",
    "\n",
    "        # None systems correspond to opening angles > 45 and are considered alive\n",
    "        N_alive = res_classications.count('alive') + res_classications.count(None)\n",
    "        N_transient = res_classications.count('transient')\n",
    "        N_dead = res_classications.count('dead')\n",
    "\n",
    "        res.append([bh_ratio, N_alive, N_transient, N_dead])"
   ]
  },
  {
   "cell_type": "code",
   "execution_count": 191,
   "metadata": {},
   "outputs": [],
   "source": [
    "res_df = pd.DataFrame(res, columns=['bh_ratio', 'alive', 'transient','dead'])"
   ]
  },
  {
   "cell_type": "code",
   "execution_count": 192,
   "metadata": {},
   "outputs": [],
   "source": [
    "savepath = '../data/interim/bh_ns_sampling_results/'\n",
    "filename = f'Z = {Z}.csv'\n",
    "#res_df.to_csv(savepath+filename, index=False)\n",
    "res_df.to_csv(savepath+filename, mode='a', header=False, index=False)"
   ]
  },
  {
   "cell_type": "code",
   "execution_count": null,
   "metadata": {},
   "outputs": [],
   "source": []
  }
 ],
 "metadata": {
  "kernelspec": {
   "display_name": "Python 3",
   "language": "python",
   "name": "python3"
  },
  "language_info": {
   "codemirror_mode": {
    "name": "ipython",
    "version": 3
   },
   "file_extension": ".py",
   "mimetype": "text/x-python",
   "name": "python",
   "nbconvert_exporter": "python",
   "pygments_lexer": "ipython3",
   "version": "3.6.9"
  }
 },
 "nbformat": 4,
 "nbformat_minor": 4
}
