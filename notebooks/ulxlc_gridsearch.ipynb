{
 "cells": [
  {
   "cell_type": "code",
   "execution_count": 1,
   "metadata": {},
   "outputs": [],
   "source": [
    "import os\n",
    "os.chdir('../src')\n",
    "import ctypes\n",
    "import numpy as np\n",
    "import matplotlib.pyplot as plt\n",
    "from mpl_toolkits.mplot3d import Axes3D\n",
    "import matplotlib.colors as colors\n",
    "import pandas as pd\n"
   ]
  },
  {
   "cell_type": "code",
   "execution_count": 2,
   "metadata": {},
   "outputs": [],
   "source": [
    "from ulxlc import ULXLC\n",
    "from constants import params_default\n"
   ]
  },
  {
   "cell_type": "code",
   "execution_count": 3,
   "metadata": {},
   "outputs": [],
   "source": [
    "#lc_boost = lc_zero_incl_max_flux / lc_max\n",
    "#       2 = 100 / 50"
   ]
  },
  {
   "cell_type": "code",
   "execution_count": 4,
   "metadata": {},
   "outputs": [],
   "source": [
    "incls  = np.arange(0,91,1)\n",
    "dincls = np.arange(0,46,1)\n",
    "thetas = np.arange(0,46,1)\n",
    "\n",
    "N_incls  = len(incls)\n",
    "N_dincls = len(dincls)\n",
    "N_thetas = len(thetas)\n",
    "\n",
    "N_tot = N_incls*N_dincls*N_thetas\n",
    "\n",
    "save_par = ['dincl', 'theta', 'incl', 'lc_min', 'lc_max', 'lc_boost']\n",
    "N_save_par = len(save_par)\n",
    "\n",
    "c_arr = (ctypes.c_double*N_save_par*N_tot)()"
   ]
  },
  {
   "cell_type": "code",
   "execution_count": null,
   "metadata": {},
   "outputs": [],
   "source": [
    "ulxlc = ULXLC()\n",
    "ulxlc.libc.lc_boost(ulxlc.lc_t, ulxlc.lc_nt, ulxlc.lc_flux, c_arr, N_tot, N_save_par)\n",
    "arr = np.ctypeslib.as_array(c_arr)"
   ]
  },
  {
   "cell_type": "code",
   "execution_count": null,
   "metadata": {},
   "outputs": [],
   "source": [
    "df = pd.DataFrame(arr)\n",
    "df.columns = [*save_par]\n",
    "df"
   ]
  },
  {
   "cell_type": "code",
   "execution_count": null,
   "metadata": {},
   "outputs": [],
   "source": [
    "df"
   ]
  },
  {
   "cell_type": "code",
   "execution_count": null,
   "metadata": {},
   "outputs": [],
   "source": [
    "fig = plt.figure()\n",
    "ax = fig.add_subplot(111, projection='3d')\n",
    "Z = df['lc_boost']\n",
    "ax.scatter(df['incl'], df['dincl'], df['theta'], c=Z, alpha=0.5, norm=colors.LogNorm(), s=0.5)\n",
    "ax.set_xlabel('incl')\n",
    "ax.set_ylabel('dincl')\n",
    "ax.set_zlabel('theta')\n",
    "plt.show()"
   ]
  },
  {
   "cell_type": "code",
   "execution_count": null,
   "metadata": {},
   "outputs": [],
   "source": [
    "df2"
   ]
  },
  {
   "cell_type": "code",
   "execution_count": null,
   "metadata": {},
   "outputs": [],
   "source": [
    "theta = 30\n",
    "df2 = df[df['theta'] == theta]\n",
    "df2 = df2[df2['lc_boost'] < 1000]\n",
    "df2 = df2[df2['lc_boost'] > 0]\n",
    "\n",
    "plt.figure(figsize=(6,4))\n",
    "plt.title(fr'theta={theta}$^{{\\circ}}$ | L Reduction')\n",
    "plt.scatter(df2['incl'], df2['dincl'], c=df2['lc_boost'])\n",
    "plt.xlabel('Inclination (i)')\n",
    "plt.ylabel('Precessional angle ($\\Delta i$)')\n",
    "plt.colorbar()"
   ]
  },
  {
   "cell_type": "code",
   "execution_count": null,
   "metadata": {
    "scrolled": false
   },
   "outputs": [],
   "source": [
    "thetas = [10,25,45]\n",
    "n_thetas = len(thetas)\n",
    "#w = 6.93\n",
    "w = 16\n",
    "h = w/n_thetas\n",
    "fig, ax = plt.subplots(nrows=1, ncols=n_thetas, sharey=True, sharex=True)\n",
    "fig.set_size_inches([w,h])\n",
    "\n",
    "cmap = plt.cm.get_cmap('hot')\n",
    "\n",
    "for i, theta in enumerate(thetas):\n",
    "    df2 = df[df['theta'] == theta]\n",
    "    df2 = df2[df2['lc_boost'] < 100]\n",
    "    df2 = df2[df2['lc_boost'] > 2]\n",
    "    \n",
    "    \n",
    "    ax[i].set_title(fr'$\\theta / 2$ = {theta}$^{{\\circ}}$')\n",
    "    #ax[i].scatter(df2['incl'], df2['dincl'], c=df2['lc_boost'], norm=colors.LogNorm())\n",
    "    tri = ax[i].tricontourf(df2['incl'], df2['dincl'], df2['lc_boost'], levels=100, cmap=cmap)\n",
    "    \n",
    "ax[0].set_xlim(0,90)\n",
    "ax[0].set_ylim(0,45)\n",
    "ax[0].set_xticks(np.arange(0,90,15))\n",
    "\n",
    "ax[1].set_xlabel('Inclination (i)')\n",
    "ax[0].set_ylabel('Precessional angle ($\\Delta i$)')\n",
    "plt.subplots_adjust(hspace=0, wspace=0)\n",
    "fig.colorbar(tri, ax=ax[-1], orientation='vertical')"
   ]
  },
  {
   "cell_type": "code",
   "execution_count": null,
   "metadata": {},
   "outputs": [],
   "source": [
    "df2"
   ]
  },
  {
   "cell_type": "code",
   "execution_count": null,
   "metadata": {},
   "outputs": [],
   "source": []
  },
  {
   "cell_type": "code",
   "execution_count": null,
   "metadata": {},
   "outputs": [],
   "source": []
  }
 ],
 "metadata": {
  "kernelspec": {
   "display_name": "Python 3",
   "language": "python",
   "name": "python3"
  },
  "language_info": {
   "codemirror_mode": {
    "name": "ipython",
    "version": 3
   },
   "file_extension": ".py",
   "mimetype": "text/x-python",
   "name": "python",
   "nbconvert_exporter": "python",
   "pygments_lexer": "ipython3",
   "version": "3.6.9"
  }
 },
 "nbformat": 4,
 "nbformat_minor": 4
}
